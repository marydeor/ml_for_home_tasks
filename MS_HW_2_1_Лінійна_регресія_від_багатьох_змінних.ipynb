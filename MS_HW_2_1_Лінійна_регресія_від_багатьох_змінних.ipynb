{
  "nbformat": 4,
  "nbformat_minor": 0,
  "metadata": {
    "colab": {
      "provenance": []
    },
    "kernelspec": {
      "name": "python3",
      "display_name": "Python 3"
    },
    "language_info": {
      "name": "python"
    }
  },
  "cells": [
    {
      "cell_type": "markdown",
      "source": [
        "В цьому домашньому завданні ми з вами побудуємо повноцінне ML-рішення реальної ML-задачі. Ви вже маєте всі знання, які для цього потрібні. Дотримуйтесь інструкцій, та користуйтесь матеріалами лекцій, аби виконувати завдання. Тут інструкції будуть детальні, а в подільших завданнях - будуть ставати все менш детальними, аби ви вже починали самостійно структурувати ML-проєкт і до кінця курсу для вас розвʼязати будь-яку ML–задачу було eazy-breezy.\n",
        "\n",
        "## Dataset\n",
        "\n",
        "Будемо працювати з набором даних `cars.csv`, який описує автомобілі і їх ціну у індійських рупіях :) Мета - передбачити ціну авто за його характеристиками. Опис набору даних:\n",
        "\n",
        "| Назва рядка            | Опис                                                                                                                                                 |\n",
        "|------------------------|--------------------------------------------------------------------------------------------------------------------------------------------------------|\n",
        "| Car_ID                 | Унікальний ідентифікатор для кожного оголошення про автомобіль.                                                                                         |\n",
        "| Brand                  | Бренд або виробник автомобіля (наприклад, Toyota, Honda, Ford тощо).                                                                                     |\n",
        "| Model                  | Модель автомобіля (наприклад, Camry, Civic, Mustang тощо).                                                                                               |\n",
        "| Year                   | Рік виготовлення автомобіля.                                                                                                                            |\n",
        "| Kilometers_Driven      | Загальний пробіг автомобіля у кілометрах.                                                                                                               |\n",
        "| Fuel_Type              | Тип палива, який використовує автомобіль (наприклад, бензин, дизель, електро тощо).                                                                      |\n",
        "| Transmission           | Тип трансмісії автомобіля (наприклад, механічна, автоматична).                                                                                           |\n",
        "| Owner_Type             | Кількість попередніх власників автомобіля (наприклад, перший, другий, третій).                                                                           |\n",
        "| Mileage                | Паливна ефективність автомобіля у кілометрах на літр.                                                                                                   |\n",
        "| Engine                 | Об'єм двигуна автомобіля в кубічних сантиметрах (CC).                                                                                                   |\n",
        "| Power                  | Максимальна потужність автомобіля в кінських силах (bhp).                                                                                               |\n",
        "| Seats                  | Кількість місць в автомобілі.                                                                                                                           |\n",
        "| Price                  | Вартість автомобіля в INR (індійські рупії), що є цільовою змінною для прогнозування.                                                                   |"
      ],
      "metadata": {
        "id": "87fwNK3xoy5K"
      }
    },
    {
      "cell_type": "markdown",
      "metadata": {
        "papermill": {
          "duration": 0.006069,
          "end_time": "2024-05-08T20:04:53.925383",
          "exception": false,
          "start_time": "2024-05-08T20:04:53.919314",
          "status": "completed"
        },
        "tags": [],
        "id": "52f35fee"
      },
      "source": [
        "# Імпорти\n",
        "\n",
        "Для зручності рекомендую всі імпорти розмістити тут нагорі, аби коли ви перезавантажували ноутбук, одразу можна було в один запуск клітинки імпортувати всі потрібні бібліотеки."
      ]
    },
    {
      "cell_type": "code",
      "source": [
        "from google.colab import drive\n",
        "drive.mount('/content/drive')"
      ],
      "metadata": {
        "id": "JZ1La9jdQU7E",
        "colab": {
          "base_uri": "https://localhost:8080/"
        },
        "outputId": "963680b4-537d-4904-84ac-59c33e49924e"
      },
      "execution_count": null,
      "outputs": [
        {
          "output_type": "stream",
          "name": "stdout",
          "text": [
            "Mounted at /content/drive\n"
          ]
        }
      ]
    },
    {
      "cell_type": "code",
      "execution_count": null,
      "metadata": {
        "execution": {
          "iopub.execute_input": "2024-05-08T20:04:53.940205Z",
          "iopub.status.busy": "2024-05-08T20:04:53.939265Z",
          "iopub.status.idle": "2024-05-08T20:04:56.366812Z",
          "shell.execute_reply": "2024-05-08T20:04:56.365880Z"
        },
        "papermill": {
          "duration": 2.43769,
          "end_time": "2024-05-08T20:04:56.369349",
          "exception": false,
          "start_time": "2024-05-08T20:04:53.931659",
          "status": "completed"
        },
        "tags": [],
        "id": "0a49b1bb"
      },
      "outputs": [],
      "source": [
        "import matplotlib.pyplot as plt\n",
        "import numpy as np\n",
        "import pandas as pd\n",
        "import plotly.express as px\n",
        "import seaborn as sns\n",
        "from sklearn.linear_model import LinearRegression\n",
        "from sklearn.metrics import root_mean_squared_error\n",
        "import statsmodels.api as sm\n",
        "from sklearn import preprocessing\n",
        "from sklearn.preprocessing import MinMaxScaler, StandardScaler\n",
        "from sklearn.model_selection import train_test_split"
      ]
    },
    {
      "cell_type": "code",
      "source": [
        "def train_model_show_rmse(inputs, targets):\n",
        "  model = LinearRegression().fit(inputs, targets)\n",
        "  predictions = model.predict(inputs)\n",
        "  loss = root_mean_squared_error(targets, predictions)\n",
        "  print('Loss:', loss)\n",
        "  return model"
      ],
      "metadata": {
        "id": "qWdHB1muyGxu"
      },
      "execution_count": null,
      "outputs": []
    },
    {
      "cell_type": "markdown",
      "source": [
        "# Знайомство з даними"
      ],
      "metadata": {
        "id": "mpKIfgg-FV98"
      }
    },
    {
      "cell_type": "markdown",
      "metadata": {
        "papermill": {
          "duration": 0.006026,
          "end_time": "2024-05-08T20:04:56.381857",
          "exception": false,
          "start_time": "2024-05-08T20:04:56.375831",
          "status": "completed"
        },
        "tags": [],
        "id": "fc07024e"
      },
      "source": [
        "**Завдання 1.** Завантажте набір даних `cars.csv` в pandas.DataFrame. Виведіть перші 5 записів."
      ]
    },
    {
      "cell_type": "code",
      "source": [
        "cars = pd.read_csv('/content/drive/MyDrive/Learning/ML/cars.csv')\n",
        "cars.head(5)"
      ],
      "metadata": {
        "id": "lKtSXyENfJxD",
        "colab": {
          "base_uri": "https://localhost:8080/",
          "height": 206
        },
        "outputId": "96d8f4f3-73a5-4016-a008-50c4b644ca51"
      },
      "execution_count": null,
      "outputs": [
        {
          "output_type": "execute_result",
          "data": {
            "text/plain": [
              "   Car_ID    Brand    Model  Year  Kilometers_Driven Fuel_Type Transmission  \\\n",
              "0       1   Toyota  Corolla  2018              50000    Petrol       Manual   \n",
              "1       2    Honda    Civic  2019              40000    Petrol    Automatic   \n",
              "2       3     Ford  Mustang  2017              20000    Petrol    Automatic   \n",
              "3       4   Maruti    Swift  2020              30000    Diesel       Manual   \n",
              "4       5  Hyundai   Sonata  2016              60000    Diesel    Automatic   \n",
              "\n",
              "  Owner_Type  Mileage  Engine  Power  Seats    Price  \n",
              "0      First       15    1498    108      5   800000  \n",
              "1     Second       17    1597    140      5  1000000  \n",
              "2      First       10    4951    395      4  2500000  \n",
              "3      Third       23    1248     74      5   600000  \n",
              "4     Second       18    1999    194      5   850000  "
            ],
            "text/html": [
              "\n",
              "  <div id=\"df-175a2bd9-3656-4d59-a212-194c176765eb\" class=\"colab-df-container\">\n",
              "    <div>\n",
              "<style scoped>\n",
              "    .dataframe tbody tr th:only-of-type {\n",
              "        vertical-align: middle;\n",
              "    }\n",
              "\n",
              "    .dataframe tbody tr th {\n",
              "        vertical-align: top;\n",
              "    }\n",
              "\n",
              "    .dataframe thead th {\n",
              "        text-align: right;\n",
              "    }\n",
              "</style>\n",
              "<table border=\"1\" class=\"dataframe\">\n",
              "  <thead>\n",
              "    <tr style=\"text-align: right;\">\n",
              "      <th></th>\n",
              "      <th>Car_ID</th>\n",
              "      <th>Brand</th>\n",
              "      <th>Model</th>\n",
              "      <th>Year</th>\n",
              "      <th>Kilometers_Driven</th>\n",
              "      <th>Fuel_Type</th>\n",
              "      <th>Transmission</th>\n",
              "      <th>Owner_Type</th>\n",
              "      <th>Mileage</th>\n",
              "      <th>Engine</th>\n",
              "      <th>Power</th>\n",
              "      <th>Seats</th>\n",
              "      <th>Price</th>\n",
              "    </tr>\n",
              "  </thead>\n",
              "  <tbody>\n",
              "    <tr>\n",
              "      <th>0</th>\n",
              "      <td>1</td>\n",
              "      <td>Toyota</td>\n",
              "      <td>Corolla</td>\n",
              "      <td>2018</td>\n",
              "      <td>50000</td>\n",
              "      <td>Petrol</td>\n",
              "      <td>Manual</td>\n",
              "      <td>First</td>\n",
              "      <td>15</td>\n",
              "      <td>1498</td>\n",
              "      <td>108</td>\n",
              "      <td>5</td>\n",
              "      <td>800000</td>\n",
              "    </tr>\n",
              "    <tr>\n",
              "      <th>1</th>\n",
              "      <td>2</td>\n",
              "      <td>Honda</td>\n",
              "      <td>Civic</td>\n",
              "      <td>2019</td>\n",
              "      <td>40000</td>\n",
              "      <td>Petrol</td>\n",
              "      <td>Automatic</td>\n",
              "      <td>Second</td>\n",
              "      <td>17</td>\n",
              "      <td>1597</td>\n",
              "      <td>140</td>\n",
              "      <td>5</td>\n",
              "      <td>1000000</td>\n",
              "    </tr>\n",
              "    <tr>\n",
              "      <th>2</th>\n",
              "      <td>3</td>\n",
              "      <td>Ford</td>\n",
              "      <td>Mustang</td>\n",
              "      <td>2017</td>\n",
              "      <td>20000</td>\n",
              "      <td>Petrol</td>\n",
              "      <td>Automatic</td>\n",
              "      <td>First</td>\n",
              "      <td>10</td>\n",
              "      <td>4951</td>\n",
              "      <td>395</td>\n",
              "      <td>4</td>\n",
              "      <td>2500000</td>\n",
              "    </tr>\n",
              "    <tr>\n",
              "      <th>3</th>\n",
              "      <td>4</td>\n",
              "      <td>Maruti</td>\n",
              "      <td>Swift</td>\n",
              "      <td>2020</td>\n",
              "      <td>30000</td>\n",
              "      <td>Diesel</td>\n",
              "      <td>Manual</td>\n",
              "      <td>Third</td>\n",
              "      <td>23</td>\n",
              "      <td>1248</td>\n",
              "      <td>74</td>\n",
              "      <td>5</td>\n",
              "      <td>600000</td>\n",
              "    </tr>\n",
              "    <tr>\n",
              "      <th>4</th>\n",
              "      <td>5</td>\n",
              "      <td>Hyundai</td>\n",
              "      <td>Sonata</td>\n",
              "      <td>2016</td>\n",
              "      <td>60000</td>\n",
              "      <td>Diesel</td>\n",
              "      <td>Automatic</td>\n",
              "      <td>Second</td>\n",
              "      <td>18</td>\n",
              "      <td>1999</td>\n",
              "      <td>194</td>\n",
              "      <td>5</td>\n",
              "      <td>850000</td>\n",
              "    </tr>\n",
              "  </tbody>\n",
              "</table>\n",
              "</div>\n",
              "    <div class=\"colab-df-buttons\">\n",
              "\n",
              "  <div class=\"colab-df-container\">\n",
              "    <button class=\"colab-df-convert\" onclick=\"convertToInteractive('df-175a2bd9-3656-4d59-a212-194c176765eb')\"\n",
              "            title=\"Convert this dataframe to an interactive table.\"\n",
              "            style=\"display:none;\">\n",
              "\n",
              "  <svg xmlns=\"http://www.w3.org/2000/svg\" height=\"24px\" viewBox=\"0 -960 960 960\">\n",
              "    <path d=\"M120-120v-720h720v720H120Zm60-500h600v-160H180v160Zm220 220h160v-160H400v160Zm0 220h160v-160H400v160ZM180-400h160v-160H180v160Zm440 0h160v-160H620v160ZM180-180h160v-160H180v160Zm440 0h160v-160H620v160Z\"/>\n",
              "  </svg>\n",
              "    </button>\n",
              "\n",
              "  <style>\n",
              "    .colab-df-container {\n",
              "      display:flex;\n",
              "      gap: 12px;\n",
              "    }\n",
              "\n",
              "    .colab-df-convert {\n",
              "      background-color: #E8F0FE;\n",
              "      border: none;\n",
              "      border-radius: 50%;\n",
              "      cursor: pointer;\n",
              "      display: none;\n",
              "      fill: #1967D2;\n",
              "      height: 32px;\n",
              "      padding: 0 0 0 0;\n",
              "      width: 32px;\n",
              "    }\n",
              "\n",
              "    .colab-df-convert:hover {\n",
              "      background-color: #E2EBFA;\n",
              "      box-shadow: 0px 1px 2px rgba(60, 64, 67, 0.3), 0px 1px 3px 1px rgba(60, 64, 67, 0.15);\n",
              "      fill: #174EA6;\n",
              "    }\n",
              "\n",
              "    .colab-df-buttons div {\n",
              "      margin-bottom: 4px;\n",
              "    }\n",
              "\n",
              "    [theme=dark] .colab-df-convert {\n",
              "      background-color: #3B4455;\n",
              "      fill: #D2E3FC;\n",
              "    }\n",
              "\n",
              "    [theme=dark] .colab-df-convert:hover {\n",
              "      background-color: #434B5C;\n",
              "      box-shadow: 0px 1px 3px 1px rgba(0, 0, 0, 0.15);\n",
              "      filter: drop-shadow(0px 1px 2px rgba(0, 0, 0, 0.3));\n",
              "      fill: #FFFFFF;\n",
              "    }\n",
              "  </style>\n",
              "\n",
              "    <script>\n",
              "      const buttonEl =\n",
              "        document.querySelector('#df-175a2bd9-3656-4d59-a212-194c176765eb button.colab-df-convert');\n",
              "      buttonEl.style.display =\n",
              "        google.colab.kernel.accessAllowed ? 'block' : 'none';\n",
              "\n",
              "      async function convertToInteractive(key) {\n",
              "        const element = document.querySelector('#df-175a2bd9-3656-4d59-a212-194c176765eb');\n",
              "        const dataTable =\n",
              "          await google.colab.kernel.invokeFunction('convertToInteractive',\n",
              "                                                    [key], {});\n",
              "        if (!dataTable) return;\n",
              "\n",
              "        const docLinkHtml = 'Like what you see? Visit the ' +\n",
              "          '<a target=\"_blank\" href=https://colab.research.google.com/notebooks/data_table.ipynb>data table notebook</a>'\n",
              "          + ' to learn more about interactive tables.';\n",
              "        element.innerHTML = '';\n",
              "        dataTable['output_type'] = 'display_data';\n",
              "        await google.colab.output.renderOutput(dataTable, element);\n",
              "        const docLink = document.createElement('div');\n",
              "        docLink.innerHTML = docLinkHtml;\n",
              "        element.appendChild(docLink);\n",
              "      }\n",
              "    </script>\n",
              "  </div>\n",
              "\n",
              "\n",
              "    <div id=\"df-6a6c9fc7-3b5c-422e-9d79-d94f8d3037a0\">\n",
              "      <button class=\"colab-df-quickchart\" onclick=\"quickchart('df-6a6c9fc7-3b5c-422e-9d79-d94f8d3037a0')\"\n",
              "                title=\"Suggest charts\"\n",
              "                style=\"display:none;\">\n",
              "\n",
              "<svg xmlns=\"http://www.w3.org/2000/svg\" height=\"24px\"viewBox=\"0 0 24 24\"\n",
              "     width=\"24px\">\n",
              "    <g>\n",
              "        <path d=\"M19 3H5c-1.1 0-2 .9-2 2v14c0 1.1.9 2 2 2h14c1.1 0 2-.9 2-2V5c0-1.1-.9-2-2-2zM9 17H7v-7h2v7zm4 0h-2V7h2v10zm4 0h-2v-4h2v4z\"/>\n",
              "    </g>\n",
              "</svg>\n",
              "      </button>\n",
              "\n",
              "<style>\n",
              "  .colab-df-quickchart {\n",
              "      --bg-color: #E8F0FE;\n",
              "      --fill-color: #1967D2;\n",
              "      --hover-bg-color: #E2EBFA;\n",
              "      --hover-fill-color: #174EA6;\n",
              "      --disabled-fill-color: #AAA;\n",
              "      --disabled-bg-color: #DDD;\n",
              "  }\n",
              "\n",
              "  [theme=dark] .colab-df-quickchart {\n",
              "      --bg-color: #3B4455;\n",
              "      --fill-color: #D2E3FC;\n",
              "      --hover-bg-color: #434B5C;\n",
              "      --hover-fill-color: #FFFFFF;\n",
              "      --disabled-bg-color: #3B4455;\n",
              "      --disabled-fill-color: #666;\n",
              "  }\n",
              "\n",
              "  .colab-df-quickchart {\n",
              "    background-color: var(--bg-color);\n",
              "    border: none;\n",
              "    border-radius: 50%;\n",
              "    cursor: pointer;\n",
              "    display: none;\n",
              "    fill: var(--fill-color);\n",
              "    height: 32px;\n",
              "    padding: 0;\n",
              "    width: 32px;\n",
              "  }\n",
              "\n",
              "  .colab-df-quickchart:hover {\n",
              "    background-color: var(--hover-bg-color);\n",
              "    box-shadow: 0 1px 2px rgba(60, 64, 67, 0.3), 0 1px 3px 1px rgba(60, 64, 67, 0.15);\n",
              "    fill: var(--button-hover-fill-color);\n",
              "  }\n",
              "\n",
              "  .colab-df-quickchart-complete:disabled,\n",
              "  .colab-df-quickchart-complete:disabled:hover {\n",
              "    background-color: var(--disabled-bg-color);\n",
              "    fill: var(--disabled-fill-color);\n",
              "    box-shadow: none;\n",
              "  }\n",
              "\n",
              "  .colab-df-spinner {\n",
              "    border: 2px solid var(--fill-color);\n",
              "    border-color: transparent;\n",
              "    border-bottom-color: var(--fill-color);\n",
              "    animation:\n",
              "      spin 1s steps(1) infinite;\n",
              "  }\n",
              "\n",
              "  @keyframes spin {\n",
              "    0% {\n",
              "      border-color: transparent;\n",
              "      border-bottom-color: var(--fill-color);\n",
              "      border-left-color: var(--fill-color);\n",
              "    }\n",
              "    20% {\n",
              "      border-color: transparent;\n",
              "      border-left-color: var(--fill-color);\n",
              "      border-top-color: var(--fill-color);\n",
              "    }\n",
              "    30% {\n",
              "      border-color: transparent;\n",
              "      border-left-color: var(--fill-color);\n",
              "      border-top-color: var(--fill-color);\n",
              "      border-right-color: var(--fill-color);\n",
              "    }\n",
              "    40% {\n",
              "      border-color: transparent;\n",
              "      border-right-color: var(--fill-color);\n",
              "      border-top-color: var(--fill-color);\n",
              "    }\n",
              "    60% {\n",
              "      border-color: transparent;\n",
              "      border-right-color: var(--fill-color);\n",
              "    }\n",
              "    80% {\n",
              "      border-color: transparent;\n",
              "      border-right-color: var(--fill-color);\n",
              "      border-bottom-color: var(--fill-color);\n",
              "    }\n",
              "    90% {\n",
              "      border-color: transparent;\n",
              "      border-bottom-color: var(--fill-color);\n",
              "    }\n",
              "  }\n",
              "</style>\n",
              "\n",
              "      <script>\n",
              "        async function quickchart(key) {\n",
              "          const quickchartButtonEl =\n",
              "            document.querySelector('#' + key + ' button');\n",
              "          quickchartButtonEl.disabled = true;  // To prevent multiple clicks.\n",
              "          quickchartButtonEl.classList.add('colab-df-spinner');\n",
              "          try {\n",
              "            const charts = await google.colab.kernel.invokeFunction(\n",
              "                'suggestCharts', [key], {});\n",
              "          } catch (error) {\n",
              "            console.error('Error during call to suggestCharts:', error);\n",
              "          }\n",
              "          quickchartButtonEl.classList.remove('colab-df-spinner');\n",
              "          quickchartButtonEl.classList.add('colab-df-quickchart-complete');\n",
              "        }\n",
              "        (() => {\n",
              "          let quickchartButtonEl =\n",
              "            document.querySelector('#df-6a6c9fc7-3b5c-422e-9d79-d94f8d3037a0 button');\n",
              "          quickchartButtonEl.style.display =\n",
              "            google.colab.kernel.accessAllowed ? 'block' : 'none';\n",
              "        })();\n",
              "      </script>\n",
              "    </div>\n",
              "\n",
              "    </div>\n",
              "  </div>\n"
            ],
            "application/vnd.google.colaboratory.intrinsic+json": {
              "type": "dataframe",
              "variable_name": "cars",
              "summary": "{\n  \"name\": \"cars\",\n  \"rows\": 100,\n  \"fields\": [\n    {\n      \"column\": \"Car_ID\",\n      \"properties\": {\n        \"dtype\": \"number\",\n        \"std\": 29,\n        \"min\": 1,\n        \"max\": 100,\n        \"num_unique_values\": 100,\n        \"samples\": [\n          84,\n          54,\n          71\n        ],\n        \"semantic_type\": \"\",\n        \"description\": \"\"\n      }\n    },\n    {\n      \"column\": \"Brand\",\n      \"properties\": {\n        \"dtype\": \"category\",\n        \"num_unique_values\": 11,\n        \"samples\": [\n          \"Tata\",\n          \"Toyota\",\n          \"BMW\"\n        ],\n        \"semantic_type\": \"\",\n        \"description\": \"\"\n      }\n    },\n    {\n      \"column\": \"Model\",\n      \"properties\": {\n        \"dtype\": \"string\",\n        \"num_unique_values\": 58,\n        \"samples\": [\n          \"Corolla\",\n          \"Nexon\",\n          \"WR-V\"\n        ],\n        \"semantic_type\": \"\",\n        \"description\": \"\"\n      }\n    },\n    {\n      \"column\": \"Year\",\n      \"properties\": {\n        \"dtype\": \"number\",\n        \"std\": 1,\n        \"min\": 2016,\n        \"max\": 2021,\n        \"num_unique_values\": 6,\n        \"samples\": [\n          2018,\n          2019,\n          2021\n        ],\n        \"semantic_type\": \"\",\n        \"description\": \"\"\n      }\n    },\n    {\n      \"column\": \"Kilometers_Driven\",\n      \"properties\": {\n        \"dtype\": \"number\",\n        \"std\": 9121,\n        \"min\": 10000,\n        \"max\": 60000,\n        \"num_unique_values\": 18,\n        \"samples\": [\n          50000,\n          40000,\n          28000\n        ],\n        \"semantic_type\": \"\",\n        \"description\": \"\"\n      }\n    },\n    {\n      \"column\": \"Fuel_Type\",\n      \"properties\": {\n        \"dtype\": \"category\",\n        \"num_unique_values\": 2,\n        \"samples\": [\n          \"Diesel\",\n          \"Petrol\"\n        ],\n        \"semantic_type\": \"\",\n        \"description\": \"\"\n      }\n    },\n    {\n      \"column\": \"Transmission\",\n      \"properties\": {\n        \"dtype\": \"category\",\n        \"num_unique_values\": 2,\n        \"samples\": [\n          \"Automatic\",\n          \"Manual\"\n        ],\n        \"semantic_type\": \"\",\n        \"description\": \"\"\n      }\n    },\n    {\n      \"column\": \"Owner_Type\",\n      \"properties\": {\n        \"dtype\": \"category\",\n        \"num_unique_values\": 3,\n        \"samples\": [\n          \"First\",\n          \"Second\"\n        ],\n        \"semantic_type\": \"\",\n        \"description\": \"\"\n      }\n    },\n    {\n      \"column\": \"Mileage\",\n      \"properties\": {\n        \"dtype\": \"number\",\n        \"std\": 3,\n        \"min\": 10,\n        \"max\": 25,\n        \"num_unique_values\": 15,\n        \"samples\": [\n          25,\n          24\n        ],\n        \"semantic_type\": \"\",\n        \"description\": \"\"\n      }\n    },\n    {\n      \"column\": \"Engine\",\n      \"properties\": {\n        \"dtype\": \"number\",\n        \"std\": 631,\n        \"min\": 999,\n        \"max\": 4951,\n        \"num_unique_values\": 36,\n        \"samples\": [\n          1998,\n          1956\n        ],\n        \"semantic_type\": \"\",\n        \"description\": \"\"\n      }\n    },\n    {\n      \"column\": \"Power\",\n      \"properties\": {\n        \"dtype\": \"number\",\n        \"std\": 76,\n        \"min\": 68,\n        \"max\": 396,\n        \"num_unique_values\": 40,\n        \"samples\": [\n          126,\n          241\n        ],\n        \"semantic_type\": \"\",\n        \"description\": \"\"\n      }\n    },\n    {\n      \"column\": \"Seats\",\n      \"properties\": {\n        \"dtype\": \"number\",\n        \"std\": 0,\n        \"min\": 4,\n        \"max\": 7,\n        \"num_unique_values\": 3,\n        \"samples\": [\n          5,\n          4\n        ],\n        \"semantic_type\": \"\",\n        \"description\": \"\"\n      }\n    },\n    {\n      \"column\": \"Price\",\n      \"properties\": {\n        \"dtype\": \"number\",\n        \"std\": 1000264,\n        \"min\": 450000,\n        \"max\": 4000000,\n        \"num_unique_values\": 31,\n        \"samples\": [\n          450000,\n          3000000\n        ],\n        \"semantic_type\": \"\",\n        \"description\": \"\"\n      }\n    }\n  ]\n}"
            }
          },
          "metadata": {},
          "execution_count": 5
        }
      ]
    },
    {
      "cell_type": "markdown",
      "source": [
        "**Завдання 2.** Виведіть типи даних колонок даних, а також дослідіть, які по факту типи даних мають записи в кожній колонці (тип `object` може містити різні типи даних) і скільки значень є в кожній категоріальній колонці.\n",
        "\n",
        "Напишіть висновок, скільки в наборі даних числових та категоріальних колонок кожного з трьох різних типів (бінарна, мільтикатегоріальна без порядку, мультикатегоріальна з порядком). Шаблон висновку\n",
        "\n",
        "```\n",
        "В наборі даних 10 числових і 10 категоріальних колонок з них\n",
        "- 2 бінарні (мають лише 2 значення)\n",
        "- 6 мультикатегоріальних (більше 2х значень) зі значеннями, для яких немає відношення порядку\n",
        "- 2 колонки, в яких можна встановити відношення порядку (наприклад Small<Medium<Large)\n",
        "```\n",
        "\n",
        "Якщо не знаєте, як це зробити з `pandas` - ось підказка, які методи можуть допомогти вам виконати це завдання\n",
        "\n",
        "- pandas.DataFrame.info()\n",
        "- pandas.DataFrame.dtypes\n",
        "- pandas.DataFrame.loc[...]\n",
        "- pandas.DataFrame.select_dtypes(...)\n",
        "- pandas.Series.unique()\n",
        "- pandas.Series.nunique()\n",
        "\n",
        "Детальніше ознайомитись з кожним ви можете в [документації](https://pandas.pydata.org/docs/reference/frame.html), або написати в окремій клітинці знак питання і назву методу (тільки приберіть це перед здачею, бо перегляд документації - не допомагає зрозуміти дані і хід думок, а Ваша робота - це як презентація замовнику зробленої задачі).\n"
      ],
      "metadata": {
        "id": "BlayjhivF7Ha"
      }
    },
    {
      "cell_type": "code",
      "source": [
        "# приклад як викликати документацію, якщо у Вас pandas імпортований як pd\n",
        "#?pd.DataFrame.info"
      ],
      "metadata": {
        "id": "jRUUJd2CJW3s"
      },
      "execution_count": null,
      "outputs": []
    },
    {
      "cell_type": "code",
      "source": [
        "cars.nunique()"
      ],
      "metadata": {
        "id": "BFofvM6QWVmx",
        "colab": {
          "base_uri": "https://localhost:8080/",
          "height": 492
        },
        "outputId": "75ce2ea7-9240-496a-bb98-cdae065b3653"
      },
      "execution_count": null,
      "outputs": [
        {
          "output_type": "execute_result",
          "data": {
            "text/plain": [
              "Car_ID               100\n",
              "Brand                 11\n",
              "Model                 58\n",
              "Year                   6\n",
              "Kilometers_Driven     18\n",
              "Fuel_Type              2\n",
              "Transmission           2\n",
              "Owner_Type             3\n",
              "Mileage               15\n",
              "Engine                36\n",
              "Power                 40\n",
              "Seats                  3\n",
              "Price                 31\n",
              "dtype: int64"
            ],
            "text/html": [
              "<div>\n",
              "<style scoped>\n",
              "    .dataframe tbody tr th:only-of-type {\n",
              "        vertical-align: middle;\n",
              "    }\n",
              "\n",
              "    .dataframe tbody tr th {\n",
              "        vertical-align: top;\n",
              "    }\n",
              "\n",
              "    .dataframe thead th {\n",
              "        text-align: right;\n",
              "    }\n",
              "</style>\n",
              "<table border=\"1\" class=\"dataframe\">\n",
              "  <thead>\n",
              "    <tr style=\"text-align: right;\">\n",
              "      <th></th>\n",
              "      <th>0</th>\n",
              "    </tr>\n",
              "  </thead>\n",
              "  <tbody>\n",
              "    <tr>\n",
              "      <th>Car_ID</th>\n",
              "      <td>100</td>\n",
              "    </tr>\n",
              "    <tr>\n",
              "      <th>Brand</th>\n",
              "      <td>11</td>\n",
              "    </tr>\n",
              "    <tr>\n",
              "      <th>Model</th>\n",
              "      <td>58</td>\n",
              "    </tr>\n",
              "    <tr>\n",
              "      <th>Year</th>\n",
              "      <td>6</td>\n",
              "    </tr>\n",
              "    <tr>\n",
              "      <th>Kilometers_Driven</th>\n",
              "      <td>18</td>\n",
              "    </tr>\n",
              "    <tr>\n",
              "      <th>Fuel_Type</th>\n",
              "      <td>2</td>\n",
              "    </tr>\n",
              "    <tr>\n",
              "      <th>Transmission</th>\n",
              "      <td>2</td>\n",
              "    </tr>\n",
              "    <tr>\n",
              "      <th>Owner_Type</th>\n",
              "      <td>3</td>\n",
              "    </tr>\n",
              "    <tr>\n",
              "      <th>Mileage</th>\n",
              "      <td>15</td>\n",
              "    </tr>\n",
              "    <tr>\n",
              "      <th>Engine</th>\n",
              "      <td>36</td>\n",
              "    </tr>\n",
              "    <tr>\n",
              "      <th>Power</th>\n",
              "      <td>40</td>\n",
              "    </tr>\n",
              "    <tr>\n",
              "      <th>Seats</th>\n",
              "      <td>3</td>\n",
              "    </tr>\n",
              "    <tr>\n",
              "      <th>Price</th>\n",
              "      <td>31</td>\n",
              "    </tr>\n",
              "  </tbody>\n",
              "</table>\n",
              "</div><br><label><b>dtype:</b> int64</label>"
            ]
          },
          "metadata": {},
          "execution_count": 7
        }
      ]
    },
    {
      "cell_type": "code",
      "source": [
        "cars.info()"
      ],
      "metadata": {
        "id": "a9bTpxKtfL7H",
        "colab": {
          "base_uri": "https://localhost:8080/"
        },
        "outputId": "06f05617-9200-4d64-c2f5-8edecbcd00f6"
      },
      "execution_count": null,
      "outputs": [
        {
          "output_type": "stream",
          "name": "stdout",
          "text": [
            "<class 'pandas.core.frame.DataFrame'>\n",
            "RangeIndex: 100 entries, 0 to 99\n",
            "Data columns (total 13 columns):\n",
            " #   Column             Non-Null Count  Dtype \n",
            "---  ------             --------------  ----- \n",
            " 0   Car_ID             100 non-null    int64 \n",
            " 1   Brand              100 non-null    object\n",
            " 2   Model              100 non-null    object\n",
            " 3   Year               100 non-null    int64 \n",
            " 4   Kilometers_Driven  100 non-null    int64 \n",
            " 5   Fuel_Type          100 non-null    object\n",
            " 6   Transmission       100 non-null    object\n",
            " 7   Owner_Type         100 non-null    object\n",
            " 8   Mileage            100 non-null    int64 \n",
            " 9   Engine             100 non-null    int64 \n",
            " 10  Power              100 non-null    int64 \n",
            " 11  Seats              100 non-null    int64 \n",
            " 12  Price              100 non-null    int64 \n",
            "dtypes: int64(8), object(5)\n",
            "memory usage: 10.3+ KB\n"
          ]
        }
      ]
    },
    {
      "cell_type": "markdown",
      "source": [
        "# Висновок:\n",
        "В наборі є 12 колонок - 6 категоріальних і 8 числових.\n",
        "Детальніше по категоріальним колонкам:\n",
        "- 2 бінарні (Fuel_type, Transmission)\n",
        "- 2 мультикатегоріальних (Brand, Model)\n",
        "- 2 колонки, в яких можна встановити відношення порядку (Seats, Owner_type)"
      ],
      "metadata": {
        "id": "iCiLN2vzquQ2"
      }
    },
    {
      "cell_type": "markdown",
      "source": [
        "**Завдання 3**. Розділіть дані на тренувальні і тест. Відведіть в тест 20%, поставте `random_state=12`. Ми будемо передбачати колонку `Price` - тож, вона є цільовою змінною. В результаті у Вас має бути 4 набори даних `X_train, X_test, y_train, y_test`.\n",
        "\n",
        "Надалі ми всюди тренуємо методи для кодування, масштабування та саму модель тільки на тренувальних даних X_train (та y_train для моделі), а на тестувальних лише використовуємо вже навчені методи для кодування, масштабування і модель викликаючи в них `transform()` (для методів обробки даних) або `predict()` (для моделі).\n",
        "\n",
        "І так само треба робити завжди."
      ],
      "metadata": {
        "id": "feZvNdSXO-tn"
      }
    },
    {
      "cell_type": "code",
      "source": [
        "X = cars.drop(columns=['Price'])\n",
        "y = cars['Price']"
      ],
      "metadata": {
        "id": "QJF6QynG5vQQ"
      },
      "execution_count": null,
      "outputs": []
    },
    {
      "cell_type": "code",
      "source": [
        "# Розбиття на тренувальні данні і тестові\n",
        "X_train, X_test, y_train, y_test = train_test_split(X, y, test_size=0.2, random_state=12, shuffle=False)"
      ],
      "metadata": {
        "id": "RRZjVwwg58dT"
      },
      "execution_count": null,
      "outputs": []
    },
    {
      "cell_type": "code",
      "source": [],
      "metadata": {
        "id": "1pF38v0nG13d"
      },
      "execution_count": null,
      "outputs": []
    },
    {
      "cell_type": "markdown",
      "source": [
        "**Завдання 4**. Кодуємо категоріальні колонки.\n",
        "\n",
        "1. Закодуйте колонки з бінарними значеннями `Fuel_Type` і `Transmission` так, аби вони були у чисельному представленні і містили лише 0 так 1. Приклад був у лекції. Значення 1 нехай буде у категорії, яка містить більше значень в колонці.\n",
        "\n",
        "2. Закодуйте колонку `Brand` з використанням `sklearn.preprocessing.OneHotEncoder` аналогічно до того, як ми робили це в лекції. Увага! Ми робимо виклик методу `Encoder.fit()` на тренувальних даних `X_train`, а на тестувальних тільки викликаємо `Encoder.transform()`. Додайте закодовані значення в набори даних `X_train`, `X_test`.\n",
        "\n",
        "3. Колонку `Owner_Type` з використанням `sklearn.preprocessing.OrdinalEncoder` я закодую для вас. Проаналізуйте, що відбувається.\n",
        "\n",
        "Колонка `Model` містять забагато значень для кодування в тому вигляді, як вона є зараз, з огляду на невелику кількість даних. Якщо ви бачите, як можна згрупувати значення в цій колонці скоротивши кількість унікальних значень до 3-5, то можете виконати ще цю трансформацію, використати цю колонку в моделі і отримати додаткову практику і бал, якщо все буде зроблено правильно. А якщо неправильно - то фідбек на Вашу роботу :)"
      ],
      "metadata": {
        "id": "EvzXSbIxKBwR"
      }
    },
    {
      "cell_type": "code",
      "source": [
        "fuel_type_codes = {'Petrol' : 1, 'Diesel' : 0}\n",
        "cars['is_petrol'] = cars.Fuel_Type.map(fuel_type_codes)"
      ],
      "metadata": {
        "id": "oKrg78cYfzBh"
      },
      "execution_count": null,
      "outputs": []
    },
    {
      "cell_type": "code",
      "source": [
        "transmission_codes = {'Manual' :0, 'Automatic':1}\n",
        "cars['automatic_transmission'] = cars.Transmission.map(transmission_codes)"
      ],
      "metadata": {
        "id": "P7_vZZMlBAhK"
      },
      "execution_count": null,
      "outputs": []
    },
    {
      "cell_type": "code",
      "source": [
        "cars.head()"
      ],
      "metadata": {
        "id": "w4uo10bjBWG7",
        "colab": {
          "base_uri": "https://localhost:8080/",
          "height": 206
        },
        "outputId": "c5897756-1947-420b-ada3-7963264bf2df"
      },
      "execution_count": null,
      "outputs": [
        {
          "output_type": "execute_result",
          "data": {
            "text/plain": [
              "   Car_ID    Brand    Model  Year  Kilometers_Driven Fuel_Type Transmission  \\\n",
              "0       1   Toyota  Corolla  2018              50000    Petrol       Manual   \n",
              "1       2    Honda    Civic  2019              40000    Petrol    Automatic   \n",
              "2       3     Ford  Mustang  2017              20000    Petrol    Automatic   \n",
              "3       4   Maruti    Swift  2020              30000    Diesel       Manual   \n",
              "4       5  Hyundai   Sonata  2016              60000    Diesel    Automatic   \n",
              "\n",
              "  Owner_Type  Mileage  Engine  Power  Seats    Price  is_petrol  \\\n",
              "0      First       15    1498    108      5   800000          1   \n",
              "1     Second       17    1597    140      5  1000000          1   \n",
              "2      First       10    4951    395      4  2500000          1   \n",
              "3      Third       23    1248     74      5   600000          0   \n",
              "4     Second       18    1999    194      5   850000          0   \n",
              "\n",
              "   automatic_transmission  \n",
              "0                       0  \n",
              "1                       1  \n",
              "2                       1  \n",
              "3                       0  \n",
              "4                       1  "
            ],
            "text/html": [
              "\n",
              "  <div id=\"df-0a3992bd-2a21-4aa9-9b72-4b7cedfcad98\" class=\"colab-df-container\">\n",
              "    <div>\n",
              "<style scoped>\n",
              "    .dataframe tbody tr th:only-of-type {\n",
              "        vertical-align: middle;\n",
              "    }\n",
              "\n",
              "    .dataframe tbody tr th {\n",
              "        vertical-align: top;\n",
              "    }\n",
              "\n",
              "    .dataframe thead th {\n",
              "        text-align: right;\n",
              "    }\n",
              "</style>\n",
              "<table border=\"1\" class=\"dataframe\">\n",
              "  <thead>\n",
              "    <tr style=\"text-align: right;\">\n",
              "      <th></th>\n",
              "      <th>Car_ID</th>\n",
              "      <th>Brand</th>\n",
              "      <th>Model</th>\n",
              "      <th>Year</th>\n",
              "      <th>Kilometers_Driven</th>\n",
              "      <th>Fuel_Type</th>\n",
              "      <th>Transmission</th>\n",
              "      <th>Owner_Type</th>\n",
              "      <th>Mileage</th>\n",
              "      <th>Engine</th>\n",
              "      <th>Power</th>\n",
              "      <th>Seats</th>\n",
              "      <th>Price</th>\n",
              "      <th>is_petrol</th>\n",
              "      <th>automatic_transmission</th>\n",
              "    </tr>\n",
              "  </thead>\n",
              "  <tbody>\n",
              "    <tr>\n",
              "      <th>0</th>\n",
              "      <td>1</td>\n",
              "      <td>Toyota</td>\n",
              "      <td>Corolla</td>\n",
              "      <td>2018</td>\n",
              "      <td>50000</td>\n",
              "      <td>Petrol</td>\n",
              "      <td>Manual</td>\n",
              "      <td>First</td>\n",
              "      <td>15</td>\n",
              "      <td>1498</td>\n",
              "      <td>108</td>\n",
              "      <td>5</td>\n",
              "      <td>800000</td>\n",
              "      <td>1</td>\n",
              "      <td>0</td>\n",
              "    </tr>\n",
              "    <tr>\n",
              "      <th>1</th>\n",
              "      <td>2</td>\n",
              "      <td>Honda</td>\n",
              "      <td>Civic</td>\n",
              "      <td>2019</td>\n",
              "      <td>40000</td>\n",
              "      <td>Petrol</td>\n",
              "      <td>Automatic</td>\n",
              "      <td>Second</td>\n",
              "      <td>17</td>\n",
              "      <td>1597</td>\n",
              "      <td>140</td>\n",
              "      <td>5</td>\n",
              "      <td>1000000</td>\n",
              "      <td>1</td>\n",
              "      <td>1</td>\n",
              "    </tr>\n",
              "    <tr>\n",
              "      <th>2</th>\n",
              "      <td>3</td>\n",
              "      <td>Ford</td>\n",
              "      <td>Mustang</td>\n",
              "      <td>2017</td>\n",
              "      <td>20000</td>\n",
              "      <td>Petrol</td>\n",
              "      <td>Automatic</td>\n",
              "      <td>First</td>\n",
              "      <td>10</td>\n",
              "      <td>4951</td>\n",
              "      <td>395</td>\n",
              "      <td>4</td>\n",
              "      <td>2500000</td>\n",
              "      <td>1</td>\n",
              "      <td>1</td>\n",
              "    </tr>\n",
              "    <tr>\n",
              "      <th>3</th>\n",
              "      <td>4</td>\n",
              "      <td>Maruti</td>\n",
              "      <td>Swift</td>\n",
              "      <td>2020</td>\n",
              "      <td>30000</td>\n",
              "      <td>Diesel</td>\n",
              "      <td>Manual</td>\n",
              "      <td>Third</td>\n",
              "      <td>23</td>\n",
              "      <td>1248</td>\n",
              "      <td>74</td>\n",
              "      <td>5</td>\n",
              "      <td>600000</td>\n",
              "      <td>0</td>\n",
              "      <td>0</td>\n",
              "    </tr>\n",
              "    <tr>\n",
              "      <th>4</th>\n",
              "      <td>5</td>\n",
              "      <td>Hyundai</td>\n",
              "      <td>Sonata</td>\n",
              "      <td>2016</td>\n",
              "      <td>60000</td>\n",
              "      <td>Diesel</td>\n",
              "      <td>Automatic</td>\n",
              "      <td>Second</td>\n",
              "      <td>18</td>\n",
              "      <td>1999</td>\n",
              "      <td>194</td>\n",
              "      <td>5</td>\n",
              "      <td>850000</td>\n",
              "      <td>0</td>\n",
              "      <td>1</td>\n",
              "    </tr>\n",
              "  </tbody>\n",
              "</table>\n",
              "</div>\n",
              "    <div class=\"colab-df-buttons\">\n",
              "\n",
              "  <div class=\"colab-df-container\">\n",
              "    <button class=\"colab-df-convert\" onclick=\"convertToInteractive('df-0a3992bd-2a21-4aa9-9b72-4b7cedfcad98')\"\n",
              "            title=\"Convert this dataframe to an interactive table.\"\n",
              "            style=\"display:none;\">\n",
              "\n",
              "  <svg xmlns=\"http://www.w3.org/2000/svg\" height=\"24px\" viewBox=\"0 -960 960 960\">\n",
              "    <path d=\"M120-120v-720h720v720H120Zm60-500h600v-160H180v160Zm220 220h160v-160H400v160Zm0 220h160v-160H400v160ZM180-400h160v-160H180v160Zm440 0h160v-160H620v160ZM180-180h160v-160H180v160Zm440 0h160v-160H620v160Z\"/>\n",
              "  </svg>\n",
              "    </button>\n",
              "\n",
              "  <style>\n",
              "    .colab-df-container {\n",
              "      display:flex;\n",
              "      gap: 12px;\n",
              "    }\n",
              "\n",
              "    .colab-df-convert {\n",
              "      background-color: #E8F0FE;\n",
              "      border: none;\n",
              "      border-radius: 50%;\n",
              "      cursor: pointer;\n",
              "      display: none;\n",
              "      fill: #1967D2;\n",
              "      height: 32px;\n",
              "      padding: 0 0 0 0;\n",
              "      width: 32px;\n",
              "    }\n",
              "\n",
              "    .colab-df-convert:hover {\n",
              "      background-color: #E2EBFA;\n",
              "      box-shadow: 0px 1px 2px rgba(60, 64, 67, 0.3), 0px 1px 3px 1px rgba(60, 64, 67, 0.15);\n",
              "      fill: #174EA6;\n",
              "    }\n",
              "\n",
              "    .colab-df-buttons div {\n",
              "      margin-bottom: 4px;\n",
              "    }\n",
              "\n",
              "    [theme=dark] .colab-df-convert {\n",
              "      background-color: #3B4455;\n",
              "      fill: #D2E3FC;\n",
              "    }\n",
              "\n",
              "    [theme=dark] .colab-df-convert:hover {\n",
              "      background-color: #434B5C;\n",
              "      box-shadow: 0px 1px 3px 1px rgba(0, 0, 0, 0.15);\n",
              "      filter: drop-shadow(0px 1px 2px rgba(0, 0, 0, 0.3));\n",
              "      fill: #FFFFFF;\n",
              "    }\n",
              "  </style>\n",
              "\n",
              "    <script>\n",
              "      const buttonEl =\n",
              "        document.querySelector('#df-0a3992bd-2a21-4aa9-9b72-4b7cedfcad98 button.colab-df-convert');\n",
              "      buttonEl.style.display =\n",
              "        google.colab.kernel.accessAllowed ? 'block' : 'none';\n",
              "\n",
              "      async function convertToInteractive(key) {\n",
              "        const element = document.querySelector('#df-0a3992bd-2a21-4aa9-9b72-4b7cedfcad98');\n",
              "        const dataTable =\n",
              "          await google.colab.kernel.invokeFunction('convertToInteractive',\n",
              "                                                    [key], {});\n",
              "        if (!dataTable) return;\n",
              "\n",
              "        const docLinkHtml = 'Like what you see? Visit the ' +\n",
              "          '<a target=\"_blank\" href=https://colab.research.google.com/notebooks/data_table.ipynb>data table notebook</a>'\n",
              "          + ' to learn more about interactive tables.';\n",
              "        element.innerHTML = '';\n",
              "        dataTable['output_type'] = 'display_data';\n",
              "        await google.colab.output.renderOutput(dataTable, element);\n",
              "        const docLink = document.createElement('div');\n",
              "        docLink.innerHTML = docLinkHtml;\n",
              "        element.appendChild(docLink);\n",
              "      }\n",
              "    </script>\n",
              "  </div>\n",
              "\n",
              "\n",
              "    <div id=\"df-e773888c-8eda-4a60-9623-e6e9fe5b11e9\">\n",
              "      <button class=\"colab-df-quickchart\" onclick=\"quickchart('df-e773888c-8eda-4a60-9623-e6e9fe5b11e9')\"\n",
              "                title=\"Suggest charts\"\n",
              "                style=\"display:none;\">\n",
              "\n",
              "<svg xmlns=\"http://www.w3.org/2000/svg\" height=\"24px\"viewBox=\"0 0 24 24\"\n",
              "     width=\"24px\">\n",
              "    <g>\n",
              "        <path d=\"M19 3H5c-1.1 0-2 .9-2 2v14c0 1.1.9 2 2 2h14c1.1 0 2-.9 2-2V5c0-1.1-.9-2-2-2zM9 17H7v-7h2v7zm4 0h-2V7h2v10zm4 0h-2v-4h2v4z\"/>\n",
              "    </g>\n",
              "</svg>\n",
              "      </button>\n",
              "\n",
              "<style>\n",
              "  .colab-df-quickchart {\n",
              "      --bg-color: #E8F0FE;\n",
              "      --fill-color: #1967D2;\n",
              "      --hover-bg-color: #E2EBFA;\n",
              "      --hover-fill-color: #174EA6;\n",
              "      --disabled-fill-color: #AAA;\n",
              "      --disabled-bg-color: #DDD;\n",
              "  }\n",
              "\n",
              "  [theme=dark] .colab-df-quickchart {\n",
              "      --bg-color: #3B4455;\n",
              "      --fill-color: #D2E3FC;\n",
              "      --hover-bg-color: #434B5C;\n",
              "      --hover-fill-color: #FFFFFF;\n",
              "      --disabled-bg-color: #3B4455;\n",
              "      --disabled-fill-color: #666;\n",
              "  }\n",
              "\n",
              "  .colab-df-quickchart {\n",
              "    background-color: var(--bg-color);\n",
              "    border: none;\n",
              "    border-radius: 50%;\n",
              "    cursor: pointer;\n",
              "    display: none;\n",
              "    fill: var(--fill-color);\n",
              "    height: 32px;\n",
              "    padding: 0;\n",
              "    width: 32px;\n",
              "  }\n",
              "\n",
              "  .colab-df-quickchart:hover {\n",
              "    background-color: var(--hover-bg-color);\n",
              "    box-shadow: 0 1px 2px rgba(60, 64, 67, 0.3), 0 1px 3px 1px rgba(60, 64, 67, 0.15);\n",
              "    fill: var(--button-hover-fill-color);\n",
              "  }\n",
              "\n",
              "  .colab-df-quickchart-complete:disabled,\n",
              "  .colab-df-quickchart-complete:disabled:hover {\n",
              "    background-color: var(--disabled-bg-color);\n",
              "    fill: var(--disabled-fill-color);\n",
              "    box-shadow: none;\n",
              "  }\n",
              "\n",
              "  .colab-df-spinner {\n",
              "    border: 2px solid var(--fill-color);\n",
              "    border-color: transparent;\n",
              "    border-bottom-color: var(--fill-color);\n",
              "    animation:\n",
              "      spin 1s steps(1) infinite;\n",
              "  }\n",
              "\n",
              "  @keyframes spin {\n",
              "    0% {\n",
              "      border-color: transparent;\n",
              "      border-bottom-color: var(--fill-color);\n",
              "      border-left-color: var(--fill-color);\n",
              "    }\n",
              "    20% {\n",
              "      border-color: transparent;\n",
              "      border-left-color: var(--fill-color);\n",
              "      border-top-color: var(--fill-color);\n",
              "    }\n",
              "    30% {\n",
              "      border-color: transparent;\n",
              "      border-left-color: var(--fill-color);\n",
              "      border-top-color: var(--fill-color);\n",
              "      border-right-color: var(--fill-color);\n",
              "    }\n",
              "    40% {\n",
              "      border-color: transparent;\n",
              "      border-right-color: var(--fill-color);\n",
              "      border-top-color: var(--fill-color);\n",
              "    }\n",
              "    60% {\n",
              "      border-color: transparent;\n",
              "      border-right-color: var(--fill-color);\n",
              "    }\n",
              "    80% {\n",
              "      border-color: transparent;\n",
              "      border-right-color: var(--fill-color);\n",
              "      border-bottom-color: var(--fill-color);\n",
              "    }\n",
              "    90% {\n",
              "      border-color: transparent;\n",
              "      border-bottom-color: var(--fill-color);\n",
              "    }\n",
              "  }\n",
              "</style>\n",
              "\n",
              "      <script>\n",
              "        async function quickchart(key) {\n",
              "          const quickchartButtonEl =\n",
              "            document.querySelector('#' + key + ' button');\n",
              "          quickchartButtonEl.disabled = true;  // To prevent multiple clicks.\n",
              "          quickchartButtonEl.classList.add('colab-df-spinner');\n",
              "          try {\n",
              "            const charts = await google.colab.kernel.invokeFunction(\n",
              "                'suggestCharts', [key], {});\n",
              "          } catch (error) {\n",
              "            console.error('Error during call to suggestCharts:', error);\n",
              "          }\n",
              "          quickchartButtonEl.classList.remove('colab-df-spinner');\n",
              "          quickchartButtonEl.classList.add('colab-df-quickchart-complete');\n",
              "        }\n",
              "        (() => {\n",
              "          let quickchartButtonEl =\n",
              "            document.querySelector('#df-e773888c-8eda-4a60-9623-e6e9fe5b11e9 button');\n",
              "          quickchartButtonEl.style.display =\n",
              "            google.colab.kernel.accessAllowed ? 'block' : 'none';\n",
              "        })();\n",
              "      </script>\n",
              "    </div>\n",
              "\n",
              "    </div>\n",
              "  </div>\n"
            ],
            "application/vnd.google.colaboratory.intrinsic+json": {
              "type": "dataframe",
              "variable_name": "cars",
              "summary": "{\n  \"name\": \"cars\",\n  \"rows\": 100,\n  \"fields\": [\n    {\n      \"column\": \"Car_ID\",\n      \"properties\": {\n        \"dtype\": \"number\",\n        \"std\": 29,\n        \"min\": 1,\n        \"max\": 100,\n        \"num_unique_values\": 100,\n        \"samples\": [\n          84,\n          54,\n          71\n        ],\n        \"semantic_type\": \"\",\n        \"description\": \"\"\n      }\n    },\n    {\n      \"column\": \"Brand\",\n      \"properties\": {\n        \"dtype\": \"category\",\n        \"num_unique_values\": 11,\n        \"samples\": [\n          \"Tata\",\n          \"Toyota\",\n          \"BMW\"\n        ],\n        \"semantic_type\": \"\",\n        \"description\": \"\"\n      }\n    },\n    {\n      \"column\": \"Model\",\n      \"properties\": {\n        \"dtype\": \"string\",\n        \"num_unique_values\": 58,\n        \"samples\": [\n          \"Corolla\",\n          \"Nexon\",\n          \"WR-V\"\n        ],\n        \"semantic_type\": \"\",\n        \"description\": \"\"\n      }\n    },\n    {\n      \"column\": \"Year\",\n      \"properties\": {\n        \"dtype\": \"number\",\n        \"std\": 1,\n        \"min\": 2016,\n        \"max\": 2021,\n        \"num_unique_values\": 6,\n        \"samples\": [\n          2018,\n          2019,\n          2021\n        ],\n        \"semantic_type\": \"\",\n        \"description\": \"\"\n      }\n    },\n    {\n      \"column\": \"Kilometers_Driven\",\n      \"properties\": {\n        \"dtype\": \"number\",\n        \"std\": 9121,\n        \"min\": 10000,\n        \"max\": 60000,\n        \"num_unique_values\": 18,\n        \"samples\": [\n          50000,\n          40000,\n          28000\n        ],\n        \"semantic_type\": \"\",\n        \"description\": \"\"\n      }\n    },\n    {\n      \"column\": \"Fuel_Type\",\n      \"properties\": {\n        \"dtype\": \"category\",\n        \"num_unique_values\": 2,\n        \"samples\": [\n          \"Diesel\",\n          \"Petrol\"\n        ],\n        \"semantic_type\": \"\",\n        \"description\": \"\"\n      }\n    },\n    {\n      \"column\": \"Transmission\",\n      \"properties\": {\n        \"dtype\": \"category\",\n        \"num_unique_values\": 2,\n        \"samples\": [\n          \"Automatic\",\n          \"Manual\"\n        ],\n        \"semantic_type\": \"\",\n        \"description\": \"\"\n      }\n    },\n    {\n      \"column\": \"Owner_Type\",\n      \"properties\": {\n        \"dtype\": \"category\",\n        \"num_unique_values\": 3,\n        \"samples\": [\n          \"First\",\n          \"Second\"\n        ],\n        \"semantic_type\": \"\",\n        \"description\": \"\"\n      }\n    },\n    {\n      \"column\": \"Mileage\",\n      \"properties\": {\n        \"dtype\": \"number\",\n        \"std\": 3,\n        \"min\": 10,\n        \"max\": 25,\n        \"num_unique_values\": 15,\n        \"samples\": [\n          25,\n          24\n        ],\n        \"semantic_type\": \"\",\n        \"description\": \"\"\n      }\n    },\n    {\n      \"column\": \"Engine\",\n      \"properties\": {\n        \"dtype\": \"number\",\n        \"std\": 631,\n        \"min\": 999,\n        \"max\": 4951,\n        \"num_unique_values\": 36,\n        \"samples\": [\n          1998,\n          1956\n        ],\n        \"semantic_type\": \"\",\n        \"description\": \"\"\n      }\n    },\n    {\n      \"column\": \"Power\",\n      \"properties\": {\n        \"dtype\": \"number\",\n        \"std\": 76,\n        \"min\": 68,\n        \"max\": 396,\n        \"num_unique_values\": 40,\n        \"samples\": [\n          126,\n          241\n        ],\n        \"semantic_type\": \"\",\n        \"description\": \"\"\n      }\n    },\n    {\n      \"column\": \"Seats\",\n      \"properties\": {\n        \"dtype\": \"number\",\n        \"std\": 0,\n        \"min\": 4,\n        \"max\": 7,\n        \"num_unique_values\": 3,\n        \"samples\": [\n          5,\n          4\n        ],\n        \"semantic_type\": \"\",\n        \"description\": \"\"\n      }\n    },\n    {\n      \"column\": \"Price\",\n      \"properties\": {\n        \"dtype\": \"number\",\n        \"std\": 1000264,\n        \"min\": 450000,\n        \"max\": 4000000,\n        \"num_unique_values\": 31,\n        \"samples\": [\n          450000,\n          3000000\n        ],\n        \"semantic_type\": \"\",\n        \"description\": \"\"\n      }\n    },\n    {\n      \"column\": \"is_petrol\",\n      \"properties\": {\n        \"dtype\": \"number\",\n        \"std\": 0,\n        \"min\": 0,\n        \"max\": 1,\n        \"num_unique_values\": 2,\n        \"samples\": [\n          0,\n          1\n        ],\n        \"semantic_type\": \"\",\n        \"description\": \"\"\n      }\n    },\n    {\n      \"column\": \"automatic_transmission\",\n      \"properties\": {\n        \"dtype\": \"number\",\n        \"std\": 0,\n        \"min\": 0,\n        \"max\": 1,\n        \"num_unique_values\": 2,\n        \"samples\": [\n          1,\n          0\n        ],\n        \"semantic_type\": \"\",\n        \"description\": \"\"\n      }\n    }\n  ]\n}"
            }
          },
          "metadata": {},
          "execution_count": 13
        }
      ]
    },
    {
      "cell_type": "code",
      "source": [
        "enc = preprocessing.OneHotEncoder()\n",
        "enc.fit(X_train[['Brand']])\n",
        "enc.categories_"
      ],
      "metadata": {
        "id": "RtDfL0KIJq4l",
        "colab": {
          "base_uri": "https://localhost:8080/"
        },
        "outputId": "139b942d-21f3-438f-9bf4-ffe524816750"
      },
      "execution_count": null,
      "outputs": [
        {
          "output_type": "execute_result",
          "data": {
            "text/plain": [
              "[array(['Audi', 'BMW', 'Ford', 'Honda', 'Hyundai', 'Mahindra', 'Maruti',\n",
              "        'Mercedes', 'Tata', 'Toyota', 'Volkswagen'], dtype=object)]"
            ]
          },
          "metadata": {},
          "execution_count": 14
        }
      ]
    },
    {
      "cell_type": "code",
      "source": [
        "one_hot_test = enc.transform(X_test[['Brand']]).toarray()\n",
        "one_hot_train = enc.transform(X_train[['Brand']]).toarray()\n",
        "enc.categories_[0]\n",
        "X_test[enc.categories_[0]] = one_hot_test\n",
        "X_train[enc.categories_[0]] = one_hot_train"
      ],
      "metadata": {
        "id": "kv3q1mwELHJ_"
      },
      "execution_count": null,
      "outputs": []
    },
    {
      "cell_type": "code",
      "source": [
        "from sklearn.preprocessing import OrdinalEncoder\n",
        "\n",
        "ordenc = OrdinalEncoder(categories=[['First', 'Second', 'Third']]) # визначаємо порядок категорій\n",
        "ordenc.fit(X_train[['Owner_Type']])\n",
        "\n",
        "X_train['Owner_Type_Codes'] = ordenc.transform(X_train[['Owner_Type']])\n",
        "X_test['Owner_Type_Codes'] = ordenc.transform(X_test[['Owner_Type']])"
      ],
      "metadata": {
        "id": "tU3uA6kNOkzb"
      },
      "execution_count": null,
      "outputs": []
    },
    {
      "cell_type": "markdown",
      "source": [
        "Очікуваний результат після трансформацій:"
      ],
      "metadata": {
        "id": "P-woc2oUSZu4"
      }
    },
    {
      "cell_type": "code",
      "source": [
        "pd.set_option('display.max_columns', 100)\n",
        "display(X_train.head()), display(X_test.head())"
      ],
      "metadata": {
        "id": "brxPGShISEhz",
        "colab": {
          "base_uri": "https://localhost:8080/",
          "height": 413
        },
        "outputId": "7030cff2-205e-4ac5-d64e-dc537af68f00"
      },
      "execution_count": null,
      "outputs": [
        {
          "output_type": "display_data",
          "data": {
            "text/plain": [
              "   Car_ID    Brand    Model  Year  Kilometers_Driven Fuel_Type Transmission  \\\n",
              "0       1   Toyota  Corolla  2018              50000    Petrol       Manual   \n",
              "1       2    Honda    Civic  2019              40000    Petrol    Automatic   \n",
              "2       3     Ford  Mustang  2017              20000    Petrol    Automatic   \n",
              "3       4   Maruti    Swift  2020              30000    Diesel       Manual   \n",
              "4       5  Hyundai   Sonata  2016              60000    Diesel    Automatic   \n",
              "\n",
              "  Owner_Type  Mileage  Engine  Power  Seats  Audi  BMW  Ford  Honda  Hyundai  \\\n",
              "0      First       15    1498    108      5   0.0  0.0   0.0    0.0      0.0   \n",
              "1     Second       17    1597    140      5   0.0  0.0   0.0    1.0      0.0   \n",
              "2      First       10    4951    395      4   0.0  0.0   1.0    0.0      0.0   \n",
              "3      Third       23    1248     74      5   0.0  0.0   0.0    0.0      0.0   \n",
              "4     Second       18    1999    194      5   0.0  0.0   0.0    0.0      1.0   \n",
              "\n",
              "   Mahindra  Maruti  Mercedes  Tata  Toyota  Volkswagen  Owner_Type_Codes  \n",
              "0       0.0     0.0       0.0   0.0     1.0         0.0               0.0  \n",
              "1       0.0     0.0       0.0   0.0     0.0         0.0               1.0  \n",
              "2       0.0     0.0       0.0   0.0     0.0         0.0               0.0  \n",
              "3       0.0     1.0       0.0   0.0     0.0         0.0               2.0  \n",
              "4       0.0     0.0       0.0   0.0     0.0         0.0               1.0  "
            ],
            "text/html": [
              "\n",
              "  <div id=\"df-a8960a50-2783-42b4-ae20-078776c167c8\" class=\"colab-df-container\">\n",
              "    <div>\n",
              "<style scoped>\n",
              "    .dataframe tbody tr th:only-of-type {\n",
              "        vertical-align: middle;\n",
              "    }\n",
              "\n",
              "    .dataframe tbody tr th {\n",
              "        vertical-align: top;\n",
              "    }\n",
              "\n",
              "    .dataframe thead th {\n",
              "        text-align: right;\n",
              "    }\n",
              "</style>\n",
              "<table border=\"1\" class=\"dataframe\">\n",
              "  <thead>\n",
              "    <tr style=\"text-align: right;\">\n",
              "      <th></th>\n",
              "      <th>Car_ID</th>\n",
              "      <th>Brand</th>\n",
              "      <th>Model</th>\n",
              "      <th>Year</th>\n",
              "      <th>Kilometers_Driven</th>\n",
              "      <th>Fuel_Type</th>\n",
              "      <th>Transmission</th>\n",
              "      <th>Owner_Type</th>\n",
              "      <th>Mileage</th>\n",
              "      <th>Engine</th>\n",
              "      <th>Power</th>\n",
              "      <th>Seats</th>\n",
              "      <th>Audi</th>\n",
              "      <th>BMW</th>\n",
              "      <th>Ford</th>\n",
              "      <th>Honda</th>\n",
              "      <th>Hyundai</th>\n",
              "      <th>Mahindra</th>\n",
              "      <th>Maruti</th>\n",
              "      <th>Mercedes</th>\n",
              "      <th>Tata</th>\n",
              "      <th>Toyota</th>\n",
              "      <th>Volkswagen</th>\n",
              "      <th>Owner_Type_Codes</th>\n",
              "    </tr>\n",
              "  </thead>\n",
              "  <tbody>\n",
              "    <tr>\n",
              "      <th>0</th>\n",
              "      <td>1</td>\n",
              "      <td>Toyota</td>\n",
              "      <td>Corolla</td>\n",
              "      <td>2018</td>\n",
              "      <td>50000</td>\n",
              "      <td>Petrol</td>\n",
              "      <td>Manual</td>\n",
              "      <td>First</td>\n",
              "      <td>15</td>\n",
              "      <td>1498</td>\n",
              "      <td>108</td>\n",
              "      <td>5</td>\n",
              "      <td>0.0</td>\n",
              "      <td>0.0</td>\n",
              "      <td>0.0</td>\n",
              "      <td>0.0</td>\n",
              "      <td>0.0</td>\n",
              "      <td>0.0</td>\n",
              "      <td>0.0</td>\n",
              "      <td>0.0</td>\n",
              "      <td>0.0</td>\n",
              "      <td>1.0</td>\n",
              "      <td>0.0</td>\n",
              "      <td>0.0</td>\n",
              "    </tr>\n",
              "    <tr>\n",
              "      <th>1</th>\n",
              "      <td>2</td>\n",
              "      <td>Honda</td>\n",
              "      <td>Civic</td>\n",
              "      <td>2019</td>\n",
              "      <td>40000</td>\n",
              "      <td>Petrol</td>\n",
              "      <td>Automatic</td>\n",
              "      <td>Second</td>\n",
              "      <td>17</td>\n",
              "      <td>1597</td>\n",
              "      <td>140</td>\n",
              "      <td>5</td>\n",
              "      <td>0.0</td>\n",
              "      <td>0.0</td>\n",
              "      <td>0.0</td>\n",
              "      <td>1.0</td>\n",
              "      <td>0.0</td>\n",
              "      <td>0.0</td>\n",
              "      <td>0.0</td>\n",
              "      <td>0.0</td>\n",
              "      <td>0.0</td>\n",
              "      <td>0.0</td>\n",
              "      <td>0.0</td>\n",
              "      <td>1.0</td>\n",
              "    </tr>\n",
              "    <tr>\n",
              "      <th>2</th>\n",
              "      <td>3</td>\n",
              "      <td>Ford</td>\n",
              "      <td>Mustang</td>\n",
              "      <td>2017</td>\n",
              "      <td>20000</td>\n",
              "      <td>Petrol</td>\n",
              "      <td>Automatic</td>\n",
              "      <td>First</td>\n",
              "      <td>10</td>\n",
              "      <td>4951</td>\n",
              "      <td>395</td>\n",
              "      <td>4</td>\n",
              "      <td>0.0</td>\n",
              "      <td>0.0</td>\n",
              "      <td>1.0</td>\n",
              "      <td>0.0</td>\n",
              "      <td>0.0</td>\n",
              "      <td>0.0</td>\n",
              "      <td>0.0</td>\n",
              "      <td>0.0</td>\n",
              "      <td>0.0</td>\n",
              "      <td>0.0</td>\n",
              "      <td>0.0</td>\n",
              "      <td>0.0</td>\n",
              "    </tr>\n",
              "    <tr>\n",
              "      <th>3</th>\n",
              "      <td>4</td>\n",
              "      <td>Maruti</td>\n",
              "      <td>Swift</td>\n",
              "      <td>2020</td>\n",
              "      <td>30000</td>\n",
              "      <td>Diesel</td>\n",
              "      <td>Manual</td>\n",
              "      <td>Third</td>\n",
              "      <td>23</td>\n",
              "      <td>1248</td>\n",
              "      <td>74</td>\n",
              "      <td>5</td>\n",
              "      <td>0.0</td>\n",
              "      <td>0.0</td>\n",
              "      <td>0.0</td>\n",
              "      <td>0.0</td>\n",
              "      <td>0.0</td>\n",
              "      <td>0.0</td>\n",
              "      <td>1.0</td>\n",
              "      <td>0.0</td>\n",
              "      <td>0.0</td>\n",
              "      <td>0.0</td>\n",
              "      <td>0.0</td>\n",
              "      <td>2.0</td>\n",
              "    </tr>\n",
              "    <tr>\n",
              "      <th>4</th>\n",
              "      <td>5</td>\n",
              "      <td>Hyundai</td>\n",
              "      <td>Sonata</td>\n",
              "      <td>2016</td>\n",
              "      <td>60000</td>\n",
              "      <td>Diesel</td>\n",
              "      <td>Automatic</td>\n",
              "      <td>Second</td>\n",
              "      <td>18</td>\n",
              "      <td>1999</td>\n",
              "      <td>194</td>\n",
              "      <td>5</td>\n",
              "      <td>0.0</td>\n",
              "      <td>0.0</td>\n",
              "      <td>0.0</td>\n",
              "      <td>0.0</td>\n",
              "      <td>1.0</td>\n",
              "      <td>0.0</td>\n",
              "      <td>0.0</td>\n",
              "      <td>0.0</td>\n",
              "      <td>0.0</td>\n",
              "      <td>0.0</td>\n",
              "      <td>0.0</td>\n",
              "      <td>1.0</td>\n",
              "    </tr>\n",
              "  </tbody>\n",
              "</table>\n",
              "</div>\n",
              "    <div class=\"colab-df-buttons\">\n",
              "\n",
              "  <div class=\"colab-df-container\">\n",
              "    <button class=\"colab-df-convert\" onclick=\"convertToInteractive('df-a8960a50-2783-42b4-ae20-078776c167c8')\"\n",
              "            title=\"Convert this dataframe to an interactive table.\"\n",
              "            style=\"display:none;\">\n",
              "\n",
              "  <svg xmlns=\"http://www.w3.org/2000/svg\" height=\"24px\" viewBox=\"0 -960 960 960\">\n",
              "    <path d=\"M120-120v-720h720v720H120Zm60-500h600v-160H180v160Zm220 220h160v-160H400v160Zm0 220h160v-160H400v160ZM180-400h160v-160H180v160Zm440 0h160v-160H620v160ZM180-180h160v-160H180v160Zm440 0h160v-160H620v160Z\"/>\n",
              "  </svg>\n",
              "    </button>\n",
              "\n",
              "  <style>\n",
              "    .colab-df-container {\n",
              "      display:flex;\n",
              "      gap: 12px;\n",
              "    }\n",
              "\n",
              "    .colab-df-convert {\n",
              "      background-color: #E8F0FE;\n",
              "      border: none;\n",
              "      border-radius: 50%;\n",
              "      cursor: pointer;\n",
              "      display: none;\n",
              "      fill: #1967D2;\n",
              "      height: 32px;\n",
              "      padding: 0 0 0 0;\n",
              "      width: 32px;\n",
              "    }\n",
              "\n",
              "    .colab-df-convert:hover {\n",
              "      background-color: #E2EBFA;\n",
              "      box-shadow: 0px 1px 2px rgba(60, 64, 67, 0.3), 0px 1px 3px 1px rgba(60, 64, 67, 0.15);\n",
              "      fill: #174EA6;\n",
              "    }\n",
              "\n",
              "    .colab-df-buttons div {\n",
              "      margin-bottom: 4px;\n",
              "    }\n",
              "\n",
              "    [theme=dark] .colab-df-convert {\n",
              "      background-color: #3B4455;\n",
              "      fill: #D2E3FC;\n",
              "    }\n",
              "\n",
              "    [theme=dark] .colab-df-convert:hover {\n",
              "      background-color: #434B5C;\n",
              "      box-shadow: 0px 1px 3px 1px rgba(0, 0, 0, 0.15);\n",
              "      filter: drop-shadow(0px 1px 2px rgba(0, 0, 0, 0.3));\n",
              "      fill: #FFFFFF;\n",
              "    }\n",
              "  </style>\n",
              "\n",
              "    <script>\n",
              "      const buttonEl =\n",
              "        document.querySelector('#df-a8960a50-2783-42b4-ae20-078776c167c8 button.colab-df-convert');\n",
              "      buttonEl.style.display =\n",
              "        google.colab.kernel.accessAllowed ? 'block' : 'none';\n",
              "\n",
              "      async function convertToInteractive(key) {\n",
              "        const element = document.querySelector('#df-a8960a50-2783-42b4-ae20-078776c167c8');\n",
              "        const dataTable =\n",
              "          await google.colab.kernel.invokeFunction('convertToInteractive',\n",
              "                                                    [key], {});\n",
              "        if (!dataTable) return;\n",
              "\n",
              "        const docLinkHtml = 'Like what you see? Visit the ' +\n",
              "          '<a target=\"_blank\" href=https://colab.research.google.com/notebooks/data_table.ipynb>data table notebook</a>'\n",
              "          + ' to learn more about interactive tables.';\n",
              "        element.innerHTML = '';\n",
              "        dataTable['output_type'] = 'display_data';\n",
              "        await google.colab.output.renderOutput(dataTable, element);\n",
              "        const docLink = document.createElement('div');\n",
              "        docLink.innerHTML = docLinkHtml;\n",
              "        element.appendChild(docLink);\n",
              "      }\n",
              "    </script>\n",
              "  </div>\n",
              "\n",
              "\n",
              "    <div id=\"df-77493996-f3d7-4713-9bf5-b773ad295b3e\">\n",
              "      <button class=\"colab-df-quickchart\" onclick=\"quickchart('df-77493996-f3d7-4713-9bf5-b773ad295b3e')\"\n",
              "                title=\"Suggest charts\"\n",
              "                style=\"display:none;\">\n",
              "\n",
              "<svg xmlns=\"http://www.w3.org/2000/svg\" height=\"24px\"viewBox=\"0 0 24 24\"\n",
              "     width=\"24px\">\n",
              "    <g>\n",
              "        <path d=\"M19 3H5c-1.1 0-2 .9-2 2v14c0 1.1.9 2 2 2h14c1.1 0 2-.9 2-2V5c0-1.1-.9-2-2-2zM9 17H7v-7h2v7zm4 0h-2V7h2v10zm4 0h-2v-4h2v4z\"/>\n",
              "    </g>\n",
              "</svg>\n",
              "      </button>\n",
              "\n",
              "<style>\n",
              "  .colab-df-quickchart {\n",
              "      --bg-color: #E8F0FE;\n",
              "      --fill-color: #1967D2;\n",
              "      --hover-bg-color: #E2EBFA;\n",
              "      --hover-fill-color: #174EA6;\n",
              "      --disabled-fill-color: #AAA;\n",
              "      --disabled-bg-color: #DDD;\n",
              "  }\n",
              "\n",
              "  [theme=dark] .colab-df-quickchart {\n",
              "      --bg-color: #3B4455;\n",
              "      --fill-color: #D2E3FC;\n",
              "      --hover-bg-color: #434B5C;\n",
              "      --hover-fill-color: #FFFFFF;\n",
              "      --disabled-bg-color: #3B4455;\n",
              "      --disabled-fill-color: #666;\n",
              "  }\n",
              "\n",
              "  .colab-df-quickchart {\n",
              "    background-color: var(--bg-color);\n",
              "    border: none;\n",
              "    border-radius: 50%;\n",
              "    cursor: pointer;\n",
              "    display: none;\n",
              "    fill: var(--fill-color);\n",
              "    height: 32px;\n",
              "    padding: 0;\n",
              "    width: 32px;\n",
              "  }\n",
              "\n",
              "  .colab-df-quickchart:hover {\n",
              "    background-color: var(--hover-bg-color);\n",
              "    box-shadow: 0 1px 2px rgba(60, 64, 67, 0.3), 0 1px 3px 1px rgba(60, 64, 67, 0.15);\n",
              "    fill: var(--button-hover-fill-color);\n",
              "  }\n",
              "\n",
              "  .colab-df-quickchart-complete:disabled,\n",
              "  .colab-df-quickchart-complete:disabled:hover {\n",
              "    background-color: var(--disabled-bg-color);\n",
              "    fill: var(--disabled-fill-color);\n",
              "    box-shadow: none;\n",
              "  }\n",
              "\n",
              "  .colab-df-spinner {\n",
              "    border: 2px solid var(--fill-color);\n",
              "    border-color: transparent;\n",
              "    border-bottom-color: var(--fill-color);\n",
              "    animation:\n",
              "      spin 1s steps(1) infinite;\n",
              "  }\n",
              "\n",
              "  @keyframes spin {\n",
              "    0% {\n",
              "      border-color: transparent;\n",
              "      border-bottom-color: var(--fill-color);\n",
              "      border-left-color: var(--fill-color);\n",
              "    }\n",
              "    20% {\n",
              "      border-color: transparent;\n",
              "      border-left-color: var(--fill-color);\n",
              "      border-top-color: var(--fill-color);\n",
              "    }\n",
              "    30% {\n",
              "      border-color: transparent;\n",
              "      border-left-color: var(--fill-color);\n",
              "      border-top-color: var(--fill-color);\n",
              "      border-right-color: var(--fill-color);\n",
              "    }\n",
              "    40% {\n",
              "      border-color: transparent;\n",
              "      border-right-color: var(--fill-color);\n",
              "      border-top-color: var(--fill-color);\n",
              "    }\n",
              "    60% {\n",
              "      border-color: transparent;\n",
              "      border-right-color: var(--fill-color);\n",
              "    }\n",
              "    80% {\n",
              "      border-color: transparent;\n",
              "      border-right-color: var(--fill-color);\n",
              "      border-bottom-color: var(--fill-color);\n",
              "    }\n",
              "    90% {\n",
              "      border-color: transparent;\n",
              "      border-bottom-color: var(--fill-color);\n",
              "    }\n",
              "  }\n",
              "</style>\n",
              "\n",
              "      <script>\n",
              "        async function quickchart(key) {\n",
              "          const quickchartButtonEl =\n",
              "            document.querySelector('#' + key + ' button');\n",
              "          quickchartButtonEl.disabled = true;  // To prevent multiple clicks.\n",
              "          quickchartButtonEl.classList.add('colab-df-spinner');\n",
              "          try {\n",
              "            const charts = await google.colab.kernel.invokeFunction(\n",
              "                'suggestCharts', [key], {});\n",
              "          } catch (error) {\n",
              "            console.error('Error during call to suggestCharts:', error);\n",
              "          }\n",
              "          quickchartButtonEl.classList.remove('colab-df-spinner');\n",
              "          quickchartButtonEl.classList.add('colab-df-quickchart-complete');\n",
              "        }\n",
              "        (() => {\n",
              "          let quickchartButtonEl =\n",
              "            document.querySelector('#df-77493996-f3d7-4713-9bf5-b773ad295b3e button');\n",
              "          quickchartButtonEl.style.display =\n",
              "            google.colab.kernel.accessAllowed ? 'block' : 'none';\n",
              "        })();\n",
              "      </script>\n",
              "    </div>\n",
              "\n",
              "    </div>\n",
              "  </div>\n"
            ],
            "application/vnd.google.colaboratory.intrinsic+json": {
              "type": "dataframe"
            }
          },
          "metadata": {}
        },
        {
          "output_type": "display_data",
          "data": {
            "text/plain": [
              "    Car_ID       Brand    Model  Year  Kilometers_Driven Fuel_Type  \\\n",
              "80      81        Tata    Tigor  2018              42000    Diesel   \n",
              "81      82      Maruti  S-Cross  2020              15000    Petrol   \n",
              "82      83       Honda     BR-V  2018              28000    Diesel   \n",
              "83      84  Volkswagen    T-Roc  2019              22000    Petrol   \n",
              "84      85        Audi       Q7  2017              30000    Diesel   \n",
              "\n",
              "   Transmission Owner_Type  Mileage  Engine  Power  Seats  Audi  BMW  Ford  \\\n",
              "80       Manual      First       24    1047     69      5   0.0  0.0   0.0   \n",
              "81    Automatic     Second       18    1462    103      5   0.0  0.0   0.0   \n",
              "82       Manual      First       21    1498     98      7   0.0  0.0   0.0   \n",
              "83    Automatic     Second       18    1498    148      5   0.0  0.0   0.0   \n",
              "84    Automatic      First       14    2967    245      7   1.0  0.0   0.0   \n",
              "\n",
              "    Honda  Hyundai  Mahindra  Maruti  Mercedes  Tata  Toyota  Volkswagen  \\\n",
              "80    0.0      0.0       0.0     0.0       0.0   1.0     0.0         0.0   \n",
              "81    0.0      0.0       0.0     1.0       0.0   0.0     0.0         0.0   \n",
              "82    1.0      0.0       0.0     0.0       0.0   0.0     0.0         0.0   \n",
              "83    0.0      0.0       0.0     0.0       0.0   0.0     0.0         1.0   \n",
              "84    0.0      0.0       0.0     0.0       0.0   0.0     0.0         0.0   \n",
              "\n",
              "    Owner_Type_Codes  \n",
              "80               0.0  \n",
              "81               1.0  \n",
              "82               0.0  \n",
              "83               1.0  \n",
              "84               0.0  "
            ],
            "text/html": [
              "\n",
              "  <div id=\"df-93cc69c0-44b6-4d3e-aeca-95715d9e8227\" class=\"colab-df-container\">\n",
              "    <div>\n",
              "<style scoped>\n",
              "    .dataframe tbody tr th:only-of-type {\n",
              "        vertical-align: middle;\n",
              "    }\n",
              "\n",
              "    .dataframe tbody tr th {\n",
              "        vertical-align: top;\n",
              "    }\n",
              "\n",
              "    .dataframe thead th {\n",
              "        text-align: right;\n",
              "    }\n",
              "</style>\n",
              "<table border=\"1\" class=\"dataframe\">\n",
              "  <thead>\n",
              "    <tr style=\"text-align: right;\">\n",
              "      <th></th>\n",
              "      <th>Car_ID</th>\n",
              "      <th>Brand</th>\n",
              "      <th>Model</th>\n",
              "      <th>Year</th>\n",
              "      <th>Kilometers_Driven</th>\n",
              "      <th>Fuel_Type</th>\n",
              "      <th>Transmission</th>\n",
              "      <th>Owner_Type</th>\n",
              "      <th>Mileage</th>\n",
              "      <th>Engine</th>\n",
              "      <th>Power</th>\n",
              "      <th>Seats</th>\n",
              "      <th>Audi</th>\n",
              "      <th>BMW</th>\n",
              "      <th>Ford</th>\n",
              "      <th>Honda</th>\n",
              "      <th>Hyundai</th>\n",
              "      <th>Mahindra</th>\n",
              "      <th>Maruti</th>\n",
              "      <th>Mercedes</th>\n",
              "      <th>Tata</th>\n",
              "      <th>Toyota</th>\n",
              "      <th>Volkswagen</th>\n",
              "      <th>Owner_Type_Codes</th>\n",
              "    </tr>\n",
              "  </thead>\n",
              "  <tbody>\n",
              "    <tr>\n",
              "      <th>80</th>\n",
              "      <td>81</td>\n",
              "      <td>Tata</td>\n",
              "      <td>Tigor</td>\n",
              "      <td>2018</td>\n",
              "      <td>42000</td>\n",
              "      <td>Diesel</td>\n",
              "      <td>Manual</td>\n",
              "      <td>First</td>\n",
              "      <td>24</td>\n",
              "      <td>1047</td>\n",
              "      <td>69</td>\n",
              "      <td>5</td>\n",
              "      <td>0.0</td>\n",
              "      <td>0.0</td>\n",
              "      <td>0.0</td>\n",
              "      <td>0.0</td>\n",
              "      <td>0.0</td>\n",
              "      <td>0.0</td>\n",
              "      <td>0.0</td>\n",
              "      <td>0.0</td>\n",
              "      <td>1.0</td>\n",
              "      <td>0.0</td>\n",
              "      <td>0.0</td>\n",
              "      <td>0.0</td>\n",
              "    </tr>\n",
              "    <tr>\n",
              "      <th>81</th>\n",
              "      <td>82</td>\n",
              "      <td>Maruti</td>\n",
              "      <td>S-Cross</td>\n",
              "      <td>2020</td>\n",
              "      <td>15000</td>\n",
              "      <td>Petrol</td>\n",
              "      <td>Automatic</td>\n",
              "      <td>Second</td>\n",
              "      <td>18</td>\n",
              "      <td>1462</td>\n",
              "      <td>103</td>\n",
              "      <td>5</td>\n",
              "      <td>0.0</td>\n",
              "      <td>0.0</td>\n",
              "      <td>0.0</td>\n",
              "      <td>0.0</td>\n",
              "      <td>0.0</td>\n",
              "      <td>0.0</td>\n",
              "      <td>1.0</td>\n",
              "      <td>0.0</td>\n",
              "      <td>0.0</td>\n",
              "      <td>0.0</td>\n",
              "      <td>0.0</td>\n",
              "      <td>1.0</td>\n",
              "    </tr>\n",
              "    <tr>\n",
              "      <th>82</th>\n",
              "      <td>83</td>\n",
              "      <td>Honda</td>\n",
              "      <td>BR-V</td>\n",
              "      <td>2018</td>\n",
              "      <td>28000</td>\n",
              "      <td>Diesel</td>\n",
              "      <td>Manual</td>\n",
              "      <td>First</td>\n",
              "      <td>21</td>\n",
              "      <td>1498</td>\n",
              "      <td>98</td>\n",
              "      <td>7</td>\n",
              "      <td>0.0</td>\n",
              "      <td>0.0</td>\n",
              "      <td>0.0</td>\n",
              "      <td>1.0</td>\n",
              "      <td>0.0</td>\n",
              "      <td>0.0</td>\n",
              "      <td>0.0</td>\n",
              "      <td>0.0</td>\n",
              "      <td>0.0</td>\n",
              "      <td>0.0</td>\n",
              "      <td>0.0</td>\n",
              "      <td>0.0</td>\n",
              "    </tr>\n",
              "    <tr>\n",
              "      <th>83</th>\n",
              "      <td>84</td>\n",
              "      <td>Volkswagen</td>\n",
              "      <td>T-Roc</td>\n",
              "      <td>2019</td>\n",
              "      <td>22000</td>\n",
              "      <td>Petrol</td>\n",
              "      <td>Automatic</td>\n",
              "      <td>Second</td>\n",
              "      <td>18</td>\n",
              "      <td>1498</td>\n",
              "      <td>148</td>\n",
              "      <td>5</td>\n",
              "      <td>0.0</td>\n",
              "      <td>0.0</td>\n",
              "      <td>0.0</td>\n",
              "      <td>0.0</td>\n",
              "      <td>0.0</td>\n",
              "      <td>0.0</td>\n",
              "      <td>0.0</td>\n",
              "      <td>0.0</td>\n",
              "      <td>0.0</td>\n",
              "      <td>0.0</td>\n",
              "      <td>1.0</td>\n",
              "      <td>1.0</td>\n",
              "    </tr>\n",
              "    <tr>\n",
              "      <th>84</th>\n",
              "      <td>85</td>\n",
              "      <td>Audi</td>\n",
              "      <td>Q7</td>\n",
              "      <td>2017</td>\n",
              "      <td>30000</td>\n",
              "      <td>Diesel</td>\n",
              "      <td>Automatic</td>\n",
              "      <td>First</td>\n",
              "      <td>14</td>\n",
              "      <td>2967</td>\n",
              "      <td>245</td>\n",
              "      <td>7</td>\n",
              "      <td>1.0</td>\n",
              "      <td>0.0</td>\n",
              "      <td>0.0</td>\n",
              "      <td>0.0</td>\n",
              "      <td>0.0</td>\n",
              "      <td>0.0</td>\n",
              "      <td>0.0</td>\n",
              "      <td>0.0</td>\n",
              "      <td>0.0</td>\n",
              "      <td>0.0</td>\n",
              "      <td>0.0</td>\n",
              "      <td>0.0</td>\n",
              "    </tr>\n",
              "  </tbody>\n",
              "</table>\n",
              "</div>\n",
              "    <div class=\"colab-df-buttons\">\n",
              "\n",
              "  <div class=\"colab-df-container\">\n",
              "    <button class=\"colab-df-convert\" onclick=\"convertToInteractive('df-93cc69c0-44b6-4d3e-aeca-95715d9e8227')\"\n",
              "            title=\"Convert this dataframe to an interactive table.\"\n",
              "            style=\"display:none;\">\n",
              "\n",
              "  <svg xmlns=\"http://www.w3.org/2000/svg\" height=\"24px\" viewBox=\"0 -960 960 960\">\n",
              "    <path d=\"M120-120v-720h720v720H120Zm60-500h600v-160H180v160Zm220 220h160v-160H400v160Zm0 220h160v-160H400v160ZM180-400h160v-160H180v160Zm440 0h160v-160H620v160ZM180-180h160v-160H180v160Zm440 0h160v-160H620v160Z\"/>\n",
              "  </svg>\n",
              "    </button>\n",
              "\n",
              "  <style>\n",
              "    .colab-df-container {\n",
              "      display:flex;\n",
              "      gap: 12px;\n",
              "    }\n",
              "\n",
              "    .colab-df-convert {\n",
              "      background-color: #E8F0FE;\n",
              "      border: none;\n",
              "      border-radius: 50%;\n",
              "      cursor: pointer;\n",
              "      display: none;\n",
              "      fill: #1967D2;\n",
              "      height: 32px;\n",
              "      padding: 0 0 0 0;\n",
              "      width: 32px;\n",
              "    }\n",
              "\n",
              "    .colab-df-convert:hover {\n",
              "      background-color: #E2EBFA;\n",
              "      box-shadow: 0px 1px 2px rgba(60, 64, 67, 0.3), 0px 1px 3px 1px rgba(60, 64, 67, 0.15);\n",
              "      fill: #174EA6;\n",
              "    }\n",
              "\n",
              "    .colab-df-buttons div {\n",
              "      margin-bottom: 4px;\n",
              "    }\n",
              "\n",
              "    [theme=dark] .colab-df-convert {\n",
              "      background-color: #3B4455;\n",
              "      fill: #D2E3FC;\n",
              "    }\n",
              "\n",
              "    [theme=dark] .colab-df-convert:hover {\n",
              "      background-color: #434B5C;\n",
              "      box-shadow: 0px 1px 3px 1px rgba(0, 0, 0, 0.15);\n",
              "      filter: drop-shadow(0px 1px 2px rgba(0, 0, 0, 0.3));\n",
              "      fill: #FFFFFF;\n",
              "    }\n",
              "  </style>\n",
              "\n",
              "    <script>\n",
              "      const buttonEl =\n",
              "        document.querySelector('#df-93cc69c0-44b6-4d3e-aeca-95715d9e8227 button.colab-df-convert');\n",
              "      buttonEl.style.display =\n",
              "        google.colab.kernel.accessAllowed ? 'block' : 'none';\n",
              "\n",
              "      async function convertToInteractive(key) {\n",
              "        const element = document.querySelector('#df-93cc69c0-44b6-4d3e-aeca-95715d9e8227');\n",
              "        const dataTable =\n",
              "          await google.colab.kernel.invokeFunction('convertToInteractive',\n",
              "                                                    [key], {});\n",
              "        if (!dataTable) return;\n",
              "\n",
              "        const docLinkHtml = 'Like what you see? Visit the ' +\n",
              "          '<a target=\"_blank\" href=https://colab.research.google.com/notebooks/data_table.ipynb>data table notebook</a>'\n",
              "          + ' to learn more about interactive tables.';\n",
              "        element.innerHTML = '';\n",
              "        dataTable['output_type'] = 'display_data';\n",
              "        await google.colab.output.renderOutput(dataTable, element);\n",
              "        const docLink = document.createElement('div');\n",
              "        docLink.innerHTML = docLinkHtml;\n",
              "        element.appendChild(docLink);\n",
              "      }\n",
              "    </script>\n",
              "  </div>\n",
              "\n",
              "\n",
              "    <div id=\"df-ad8cb52f-5a66-45e2-b94b-57fba97b5907\">\n",
              "      <button class=\"colab-df-quickchart\" onclick=\"quickchart('df-ad8cb52f-5a66-45e2-b94b-57fba97b5907')\"\n",
              "                title=\"Suggest charts\"\n",
              "                style=\"display:none;\">\n",
              "\n",
              "<svg xmlns=\"http://www.w3.org/2000/svg\" height=\"24px\"viewBox=\"0 0 24 24\"\n",
              "     width=\"24px\">\n",
              "    <g>\n",
              "        <path d=\"M19 3H5c-1.1 0-2 .9-2 2v14c0 1.1.9 2 2 2h14c1.1 0 2-.9 2-2V5c0-1.1-.9-2-2-2zM9 17H7v-7h2v7zm4 0h-2V7h2v10zm4 0h-2v-4h2v4z\"/>\n",
              "    </g>\n",
              "</svg>\n",
              "      </button>\n",
              "\n",
              "<style>\n",
              "  .colab-df-quickchart {\n",
              "      --bg-color: #E8F0FE;\n",
              "      --fill-color: #1967D2;\n",
              "      --hover-bg-color: #E2EBFA;\n",
              "      --hover-fill-color: #174EA6;\n",
              "      --disabled-fill-color: #AAA;\n",
              "      --disabled-bg-color: #DDD;\n",
              "  }\n",
              "\n",
              "  [theme=dark] .colab-df-quickchart {\n",
              "      --bg-color: #3B4455;\n",
              "      --fill-color: #D2E3FC;\n",
              "      --hover-bg-color: #434B5C;\n",
              "      --hover-fill-color: #FFFFFF;\n",
              "      --disabled-bg-color: #3B4455;\n",
              "      --disabled-fill-color: #666;\n",
              "  }\n",
              "\n",
              "  .colab-df-quickchart {\n",
              "    background-color: var(--bg-color);\n",
              "    border: none;\n",
              "    border-radius: 50%;\n",
              "    cursor: pointer;\n",
              "    display: none;\n",
              "    fill: var(--fill-color);\n",
              "    height: 32px;\n",
              "    padding: 0;\n",
              "    width: 32px;\n",
              "  }\n",
              "\n",
              "  .colab-df-quickchart:hover {\n",
              "    background-color: var(--hover-bg-color);\n",
              "    box-shadow: 0 1px 2px rgba(60, 64, 67, 0.3), 0 1px 3px 1px rgba(60, 64, 67, 0.15);\n",
              "    fill: var(--button-hover-fill-color);\n",
              "  }\n",
              "\n",
              "  .colab-df-quickchart-complete:disabled,\n",
              "  .colab-df-quickchart-complete:disabled:hover {\n",
              "    background-color: var(--disabled-bg-color);\n",
              "    fill: var(--disabled-fill-color);\n",
              "    box-shadow: none;\n",
              "  }\n",
              "\n",
              "  .colab-df-spinner {\n",
              "    border: 2px solid var(--fill-color);\n",
              "    border-color: transparent;\n",
              "    border-bottom-color: var(--fill-color);\n",
              "    animation:\n",
              "      spin 1s steps(1) infinite;\n",
              "  }\n",
              "\n",
              "  @keyframes spin {\n",
              "    0% {\n",
              "      border-color: transparent;\n",
              "      border-bottom-color: var(--fill-color);\n",
              "      border-left-color: var(--fill-color);\n",
              "    }\n",
              "    20% {\n",
              "      border-color: transparent;\n",
              "      border-left-color: var(--fill-color);\n",
              "      border-top-color: var(--fill-color);\n",
              "    }\n",
              "    30% {\n",
              "      border-color: transparent;\n",
              "      border-left-color: var(--fill-color);\n",
              "      border-top-color: var(--fill-color);\n",
              "      border-right-color: var(--fill-color);\n",
              "    }\n",
              "    40% {\n",
              "      border-color: transparent;\n",
              "      border-right-color: var(--fill-color);\n",
              "      border-top-color: var(--fill-color);\n",
              "    }\n",
              "    60% {\n",
              "      border-color: transparent;\n",
              "      border-right-color: var(--fill-color);\n",
              "    }\n",
              "    80% {\n",
              "      border-color: transparent;\n",
              "      border-right-color: var(--fill-color);\n",
              "      border-bottom-color: var(--fill-color);\n",
              "    }\n",
              "    90% {\n",
              "      border-color: transparent;\n",
              "      border-bottom-color: var(--fill-color);\n",
              "    }\n",
              "  }\n",
              "</style>\n",
              "\n",
              "      <script>\n",
              "        async function quickchart(key) {\n",
              "          const quickchartButtonEl =\n",
              "            document.querySelector('#' + key + ' button');\n",
              "          quickchartButtonEl.disabled = true;  // To prevent multiple clicks.\n",
              "          quickchartButtonEl.classList.add('colab-df-spinner');\n",
              "          try {\n",
              "            const charts = await google.colab.kernel.invokeFunction(\n",
              "                'suggestCharts', [key], {});\n",
              "          } catch (error) {\n",
              "            console.error('Error during call to suggestCharts:', error);\n",
              "          }\n",
              "          quickchartButtonEl.classList.remove('colab-df-spinner');\n",
              "          quickchartButtonEl.classList.add('colab-df-quickchart-complete');\n",
              "        }\n",
              "        (() => {\n",
              "          let quickchartButtonEl =\n",
              "            document.querySelector('#df-ad8cb52f-5a66-45e2-b94b-57fba97b5907 button');\n",
              "          quickchartButtonEl.style.display =\n",
              "            google.colab.kernel.accessAllowed ? 'block' : 'none';\n",
              "        })();\n",
              "      </script>\n",
              "    </div>\n",
              "\n",
              "    </div>\n",
              "  </div>\n"
            ],
            "application/vnd.google.colaboratory.intrinsic+json": {
              "type": "dataframe"
            }
          },
          "metadata": {}
        },
        {
          "output_type": "execute_result",
          "data": {
            "text/plain": [
              "(None, None)"
            ]
          },
          "metadata": {},
          "execution_count": 17
        }
      ]
    },
    {
      "cell_type": "markdown",
      "source": [
        "**Завдання 5.** Оберіть лише числові колонки з `X_train` (можна для цього використати `pandas.select_dtypes(...)` або видалити всі НЕчислові дані, вони нам вже не потрібні), обʼєднайте ці дані з `y_train` (зручно з `pandas.concat([df1, df2], axis=1)`), побудуйте для цих даних матрицю кореляції і проаналізуйте її. Напишіть висновок, які колонки корелюють з цільовою змінною на більш ніж 0.5 за модулем (може бути як позитивна, так і негативна кореляція)."
      ],
      "metadata": {
        "id": "wHDyZp9QSnsF"
      }
    },
    {
      "cell_type": "code",
      "source": [
        "X_train_num = X_train.select_dtypes(include = ['number'])"
      ],
      "metadata": {
        "id": "0EIv0cVVf05Z"
      },
      "execution_count": null,
      "outputs": []
    },
    {
      "cell_type": "code",
      "source": [
        "train_data = pd.concat([X_train_num, y_train], axis=1)"
      ],
      "metadata": {
        "id": "KfcNKeZdR08D"
      },
      "execution_count": null,
      "outputs": []
    },
    {
      "cell_type": "code",
      "source": [
        "train_corr_matrix = train_data.corr()\n",
        "print(train_corr_matrix)"
      ],
      "metadata": {
        "id": "ZdMiw4jzSSlc",
        "colab": {
          "base_uri": "https://localhost:8080/"
        },
        "outputId": "1ffb9769-8833-4e20-d138-59c92a4eb196"
      },
      "execution_count": null,
      "outputs": [
        {
          "output_type": "stream",
          "name": "stdout",
          "text": [
            "                     Car_ID          Year  Kilometers_Driven   Mileage  \\\n",
            "Car_ID             1.000000  5.704786e-02          -0.232330 -0.010697   \n",
            "Year               0.057048  1.000000e+00          -0.721650  0.219802   \n",
            "Kilometers_Driven -0.232330 -7.216502e-01           1.000000 -0.129893   \n",
            "Mileage           -0.010697  2.198023e-01          -0.129893  1.000000   \n",
            "Engine            -0.022984 -3.280046e-01           0.091528 -0.665458   \n",
            "Power              0.017669 -3.002138e-01          -0.002373 -0.629507   \n",
            "Seats             -0.040167 -2.114174e-01           0.414480 -0.215616   \n",
            "Audi               0.018044 -3.187164e-01           0.129651 -0.134958   \n",
            "BMW                0.032478  1.770647e-01          -0.237619 -0.048288   \n",
            "Ford               0.005996 -7.985209e-02          -0.047420 -0.223498   \n",
            "Honda             -0.070442 -8.229222e-02           0.126476  0.421030   \n",
            "Hyundai            0.023127 -7.985209e-02           0.095419  0.258470   \n",
            "Mahindra          -0.032288  2.681014e-01          -0.142222 -0.058798   \n",
            "Maruti            -0.074914  2.688212e-01          -0.175147  0.129474   \n",
            "Mercedes           0.046913 -1.416517e-01          -0.073896 -0.246392   \n",
            "Tata              -0.032478  1.416517e-01           0.116376  0.149816   \n",
            "Toyota             0.041500 -7.082586e-02           0.262399 -0.234010   \n",
            "Volkswagen         0.003609  3.541293e-02          -0.104871  0.075527   \n",
            "Owner_Type_Codes   0.095605 -1.176067e-14          -0.024589  0.126407   \n",
            "Price              0.073512 -2.628464e-01          -0.041226 -0.572906   \n",
            "\n",
            "                     Engine     Power     Seats      Audi       BMW      Ford  \\\n",
            "Car_ID            -0.022984  0.017669 -0.040167  0.018044  0.032478  0.005996   \n",
            "Year              -0.328005 -0.300214 -0.211417 -0.318716  0.177065 -0.079852   \n",
            "Kilometers_Driven  0.091528 -0.002373  0.414480  0.129651 -0.237619 -0.047420   \n",
            "Mileage           -0.665458 -0.629507 -0.215616 -0.134958 -0.048288 -0.223498   \n",
            "Engine             1.000000  0.822024  0.142923  0.011441  0.266369  0.132866   \n",
            "Power              0.822024  1.000000 -0.093355  0.162393  0.343017  0.135989   \n",
            "Seats              0.142923 -0.093355  1.000000  0.011243 -0.101187 -0.108079   \n",
            "Audi               0.011441  0.162393  0.011243  1.000000 -0.111111 -0.118678   \n",
            "BMW                0.266369  0.343017 -0.101187 -0.111111  1.000000 -0.118678   \n",
            "Ford               0.132866  0.135989 -0.108079 -0.118678 -0.118678  1.000000   \n",
            "Honda             -0.138434 -0.176610  0.060962 -0.086066 -0.086066 -0.091928   \n",
            "Hyundai           -0.225105 -0.212866 -0.108079 -0.118678 -0.118678 -0.126761   \n",
            "Mahindra           0.054231 -0.087678 -0.069642 -0.076472 -0.076472 -0.081680   \n",
            "Maruti            -0.178311 -0.208689  0.060962 -0.086066 -0.086066 -0.091928   \n",
            "Mercedes           0.201430  0.355959 -0.101187 -0.111111 -0.111111 -0.118678   \n",
            "Tata              -0.206938 -0.201669  0.123674 -0.111111 -0.111111 -0.118678   \n",
            "Toyota             0.203388 -0.039614  0.348535 -0.111111 -0.111111 -0.118678   \n",
            "Volkswagen        -0.162362 -0.164531 -0.101187 -0.111111 -0.111111 -0.118678   \n",
            "Owner_Type_Codes  -0.282973 -0.257858 -0.062962 -0.155558 -0.035898  0.266979   \n",
            "Price              0.697522  0.858612 -0.000486  0.311796  0.487220 -0.060053   \n",
            "\n",
            "                      Honda   Hyundai  Mahindra    Maruti  Mercedes      Tata  \\\n",
            "Car_ID            -0.070442  0.023127 -0.032288 -0.074914  0.046913 -0.032478   \n",
            "Year              -0.082292 -0.079852  0.268101  0.268821 -0.141652  0.141652   \n",
            "Kilometers_Driven  0.126476  0.095419 -0.142222 -0.175147 -0.073896  0.116376   \n",
            "Mileage            0.421030  0.258470 -0.058798  0.129474 -0.246392  0.149816   \n",
            "Engine            -0.138434 -0.225105  0.054231 -0.178311  0.201430 -0.206938   \n",
            "Power             -0.176610 -0.212866 -0.087678 -0.208689  0.355959 -0.201669   \n",
            "Seats              0.060962 -0.108079 -0.069642  0.060962 -0.101187  0.123674   \n",
            "Audi              -0.086066 -0.118678 -0.076472 -0.086066 -0.111111 -0.111111   \n",
            "BMW               -0.086066 -0.118678 -0.076472 -0.086066 -0.111111 -0.111111   \n",
            "Ford              -0.091928 -0.126761 -0.081680 -0.091928 -0.118678 -0.118678   \n",
            "Honda              1.000000 -0.091928 -0.059235 -0.066667 -0.086066 -0.086066   \n",
            "Hyundai           -0.091928  1.000000 -0.081680 -0.091928 -0.118678 -0.118678   \n",
            "Mahindra          -0.059235 -0.081680  1.000000 -0.059235 -0.076472 -0.076472   \n",
            "Maruti            -0.066667 -0.091928 -0.059235  1.000000 -0.086066 -0.086066   \n",
            "Mercedes          -0.086066 -0.118678 -0.076472 -0.086066  1.000000 -0.111111   \n",
            "Tata              -0.086066 -0.118678 -0.076472 -0.086066 -0.111111  1.000000   \n",
            "Toyota            -0.086066 -0.118678 -0.076472 -0.086066 -0.111111 -0.111111   \n",
            "Volkswagen        -0.086066 -0.118678 -0.076472 -0.086066 -0.111111 -0.111111   \n",
            "Owner_Type_Codes  -0.111226  0.380587 -0.065884  0.111226 -0.155558 -0.335047   \n",
            "Price             -0.201722 -0.307899 -0.133240 -0.225016  0.453806 -0.229096   \n",
            "\n",
            "                     Toyota  Volkswagen  Owner_Type_Codes     Price  \n",
            "Car_ID             0.041500    0.003609      9.560461e-02  0.073512  \n",
            "Year              -0.070826    0.035413     -1.176067e-14 -0.262846  \n",
            "Kilometers_Driven  0.262399   -0.104871     -2.458935e-02 -0.041226  \n",
            "Mileage           -0.234010    0.075527      1.264071e-01 -0.572906  \n",
            "Engine             0.203388   -0.162362     -2.829730e-01  0.697522  \n",
            "Power             -0.039614   -0.164531     -2.578583e-01  0.858612  \n",
            "Seats              0.348535   -0.101187     -6.296193e-02 -0.000486  \n",
            "Audi              -0.111111   -0.111111     -1.555576e-01  0.311796  \n",
            "BMW               -0.111111   -0.111111     -3.589791e-02  0.487220  \n",
            "Ford              -0.118678   -0.118678      2.669787e-01 -0.060053  \n",
            "Honda             -0.086066   -0.086066     -1.112256e-01 -0.201722  \n",
            "Hyundai           -0.118678   -0.118678      3.805866e-01 -0.307899  \n",
            "Mahindra          -0.076472   -0.076472     -6.588436e-02 -0.133240  \n",
            "Maruti            -0.086066   -0.086066      1.112256e-01 -0.225016  \n",
            "Mercedes          -0.111111   -0.111111     -1.555576e-01  0.453806  \n",
            "Tata              -0.111111   -0.111111     -3.350471e-01 -0.229096  \n",
            "Toyota             1.000000   -0.111111     -9.572775e-02 -0.039053  \n",
            "Volkswagen        -0.111111    1.000000      1.435916e-01 -0.156002  \n",
            "Owner_Type_Codes  -0.095728    0.143592      1.000000e+00 -0.302184  \n",
            "Price             -0.039053   -0.156002     -3.021836e-01  1.000000  \n"
          ]
        }
      ]
    },
    {
      "cell_type": "code",
      "source": [
        "# Лишимо кореляцію лише для цільової змінної і лише потрібний проміжок\n",
        "train_target_cor = train_corr_matrix['Price'].drop('Price')\n",
        "strong_corr_train = train_target_cor[abs(train_target_cor) > 0.5]\n",
        "print(strong_corr_train)"
      ],
      "metadata": {
        "id": "19Qqdfn9Sp54",
        "colab": {
          "base_uri": "https://localhost:8080/"
        },
        "outputId": "e470bd60-964b-43cd-b23d-ec0dc3126f46"
      },
      "execution_count": null,
      "outputs": [
        {
          "output_type": "stream",
          "name": "stdout",
          "text": [
            "Mileage   -0.572906\n",
            "Engine     0.697522\n",
            "Power      0.858612\n",
            "Name: Price, dtype: float64\n"
          ]
        }
      ]
    },
    {
      "cell_type": "markdown",
      "source": [
        "## **Висновок**\n",
        "Найбільш стійку позитивну кореляцію ціна на авто має з типом мотору (Engine) та потужністю (Power). Негативну кореляцію має з пробігом авто (Mileage)."
      ],
      "metadata": {
        "id": "JmBgJiRAURes"
      }
    },
    {
      "cell_type": "markdown",
      "source": [
        "**Завдання 6**. Тренуємо лінійну регресію.\n",
        "0. Видаліть усі НЕчислові колонки з `X_train`, `X_test`, якщо ще цього не зробили.\n",
        "1. Натренуйте лінійну регресую з `sklearn` на усіх числових даних тренувального набору `X_train`.\n",
        "2. Зробіть передбачення на  `X_train`, `X_test`. Знайдіть і виведіть root mean squared error відхилення передбачення від справжніх значень цільової змінної.\n",
        "3. Побудуйте графік розсіювання передбачень проти реальних даних цільової змінної для тренувального і тестувального наборів даних. Що можете сказати про якість моделі?"
      ],
      "metadata": {
        "id": "G7BZ3pD-USgU"
      }
    },
    {
      "cell_type": "code",
      "source": [
        "X_test_num = X_test.select_dtypes(include = ['number'])"
      ],
      "metadata": {
        "id": "SElx21B4f3VY"
      },
      "execution_count": null,
      "outputs": []
    },
    {
      "cell_type": "code",
      "source": [
        "# Тренування моделі\n",
        "inputs, targets = X_train_num, y_train\n",
        "model = LinearRegression().fit(inputs, targets)\n",
        "predictions = model.predict(inputs)\n",
        "loss = root_mean_squared_error(targets, predictions)\n",
        "print('Loss:', loss)"
      ],
      "metadata": {
        "id": "eEFyYagbLyem",
        "colab": {
          "base_uri": "https://localhost:8080/"
        },
        "outputId": "37ab3c61-7c86-4d96-ceaa-ceebdc151edc"
      },
      "execution_count": null,
      "outputs": [
        {
          "output_type": "stream",
          "name": "stdout",
          "text": [
            "Loss: 251004.80147743388\n"
          ]
        }
      ]
    },
    {
      "cell_type": "code",
      "source": [
        "#Передбачення на X_test\n",
        "predictions_test = model.predict(X_test_num)\n",
        "loss_test = root_mean_squared_error(y_test, predictions_test)\n",
        "print('Loss test:'), loss_test"
      ],
      "metadata": {
        "id": "tbEzcS4YTytO",
        "colab": {
          "base_uri": "https://localhost:8080/"
        },
        "outputId": "582762c9-20b4-448a-a92e-d75395c3e154"
      },
      "execution_count": null,
      "outputs": [
        {
          "output_type": "stream",
          "name": "stdout",
          "text": [
            "Loss test:\n"
          ]
        },
        {
          "output_type": "execute_result",
          "data": {
            "text/plain": [
              "(None, 265221.26832960354)"
            ]
          },
          "metadata": {},
          "execution_count": 24
        }
      ]
    },
    {
      "cell_type": "code",
      "source": [
        "# функція для графіку\n",
        "def plot_predictions(y_true, y_pred, title):\n",
        "    plt.figure(figsize=(8, 8))\n",
        "    plt.scatter(y_true, y_pred, alpha=0.6, edgecolor='k')\n",
        "    plt.plot([min(y_true), max(y_true)], [min(y_true), max(y_true)], 'r--')  # Лінія ідеального прогнозу\n",
        "    plt.xlabel('Реальні значення')\n",
        "    plt.ylabel('Передбачені значення')\n",
        "    plt.title(title)\n",
        "    plt.grid(True)\n",
        "    plt.show()\n"
      ],
      "metadata": {
        "id": "spB2LlLH0pxJ"
      },
      "execution_count": null,
      "outputs": []
    },
    {
      "cell_type": "code",
      "source": [
        "# графік розсіювання для тренувальної моделі\n",
        "plot_predictions(y_train, predictions, \"Тренувальний: Реальні vs Передбачені\")"
      ],
      "metadata": {
        "id": "joQR-JU11Mb8",
        "colab": {
          "base_uri": "https://localhost:8080/",
          "height": 718
        },
        "outputId": "40bd9c77-092e-4e54-f532-5dd0e079559e"
      },
      "execution_count": null,
      "outputs": [
        {
          "output_type": "display_data",
          "data": {
            "text/plain": [
              "<Figure size 800x800 with 1 Axes>"
            ],
            "image/png": "[encoded data removed]"
          },
          "metadata": {}
        }
      ]
    },
    {
      "cell_type": "code",
      "source": [
        "# графік розсіювання для тестової моделі\n",
        "plot_predictions(y_test, predictions_test, \"Тестовий набір: Реальні vs Передбачені\")"
      ],
      "metadata": {
        "id": "jC4zOgjZ3eFk",
        "colab": {
          "base_uri": "https://localhost:8080/",
          "height": 718
        },
        "outputId": "85da4a01-790f-47b7-ae27-6539fb8b538c"
      },
      "execution_count": null,
      "outputs": [
        {
          "output_type": "display_data",
          "data": {
            "text/plain": [
              "<Figure size 800x800 with 1 Axes>"
            ],
            "image/png": "[encoded data removed]"
          },
          "metadata": {}
        }
      ]
    },
    {
      "cell_type": "markdown",
      "source": [
        "## **Висновок**\n",
        "Незважаючи на те, що модель на тестовому наборі дала меншу помилку, ніж на тренувальному, все одно сама помилка дуже велика. Також бачимо на графіках, що дані обох передбачень далекі від реальних, тобто модель не вловила взаємов'язки аби спрогнозувати коректніше або ж можливо залежності ціноутворення на авто є нелінійними і нам потрібно скористатись іншою моделлю для прогнозування."
      ],
      "metadata": {
        "id": "-gXy5KZ02iTM"
      }
    },
    {
      "cell_type": "markdown",
      "source": [
        "**Завдання 7**. Ми хочемо проаналізувати як впливає кожен чинник на цілову змінну. Для цього давайте промасштабуємо наші дані.\n",
        "1. Зробіть масштабування незалежних змінних використовуючи `StandardScaler`. Тренуємо на тренувальних даних, а на тестувальних лише викликаємо `transform`.\n",
        "\n",
        "2. Натренуйте модель на відмасштабованих даних і перегляньте коефіцієнти моделі. Які колонки є найвпливовішими на формування передбачення з точки зору коефіцієнтів? Проаналізуйте напрям дії найважливіших коефіцієнтів. Чи це логічно з точки зору значення відповідних змінних, що вони впливають на цільову змінну саме в напрямі збільшення / зменшення?"
      ],
      "metadata": {
        "id": "0LcACfQ3W3VP"
      }
    },
    {
      "cell_type": "code",
      "source": [
        "scaler = StandardScaler()\n",
        "X_train_scaled = scaler.fit_transform(X_train_num)\n",
        "X_train_scaled_df = pd.DataFrame(X_train_scaled, columns=X_train_num.columns, index=X_train_num.index)"
      ],
      "metadata": {
        "id": "HA-l3vUWf6Af"
      },
      "execution_count": null,
      "outputs": []
    },
    {
      "cell_type": "code",
      "source": [
        "scaler.mean_"
      ],
      "metadata": {
        "id": "IiLgmuE6ssM5",
        "colab": {
          "base_uri": "https://localhost:8080/"
        },
        "outputId": "7e43bd8f-8345-4fd5-f56f-63a4a0d1405f"
      },
      "execution_count": null,
      "outputs": [
        {
          "output_type": "execute_result",
          "data": {
            "text/plain": [
              "array([4.0500000e+01, 2.0183750e+03, 2.8587500e+04, 1.7112500e+01,\n",
              "       1.8600875e+03, 1.5705000e+02, 5.2250000e+00, 1.0000000e-01,\n",
              "       1.0000000e-01, 1.1250000e-01, 6.2500000e-02, 1.1250000e-01,\n",
              "       5.0000000e-02, 6.2500000e-02, 1.0000000e-01, 1.0000000e-01,\n",
              "       1.0000000e-01, 1.0000000e-01, 7.0000000e-01])"
            ]
          },
          "metadata": {},
          "execution_count": 29
        }
      ]
    },
    {
      "cell_type": "code",
      "source": [
        "scaler.var_"
      ],
      "metadata": {
        "id": "hEHuwgSWs5WG",
        "colab": {
          "base_uri": "https://localhost:8080/"
        },
        "outputId": "7f3ed637-d253-4a15-f21c-a930802c11f4"
      },
      "execution_count": null,
      "outputs": [
        {
          "output_type": "execute_result",
          "data": {
            "text/plain": [
              "array([5.33250000e+02, 1.38437500e+00, 8.86673438e+07, 1.13248438e+01,\n",
              "       4.07574630e+05, 5.48322250e+03, 5.49375000e-01, 9.00000000e-02,\n",
              "       9.00000000e-02, 9.98437500e-02, 5.85937500e-02, 9.98437500e-02,\n",
              "       4.75000000e-02, 5.85937500e-02, 9.00000000e-02, 9.00000000e-02,\n",
              "       9.00000000e-02, 9.00000000e-02, 4.85000000e-01])"
            ]
          },
          "metadata": {},
          "execution_count": 30
        }
      ]
    },
    {
      "cell_type": "code",
      "source": [
        "X_test_scaled = scaler.transform(X_test_num)\n",
        "X_test_scaled_df = pd.DataFrame(X_test_scaled, columns=X_test_num.columns, index=X_test_num.index)"
      ],
      "metadata": {
        "id": "2qPZEEXhtFeq"
      },
      "execution_count": null,
      "outputs": []
    },
    {
      "cell_type": "code",
      "source": [
        "y_test_scaled = y_test.copy()\n",
        "y_train_scaled = y_train.copy()"
      ],
      "metadata": {
        "id": "Ir7k11o0mH6Q"
      },
      "execution_count": null,
      "outputs": []
    },
    {
      "cell_type": "code",
      "source": [
        "# тренуємо модель на scaled даних\n",
        "model_scaled = LinearRegression().fit(X_train_scaled, y_train_scaled)"
      ],
      "metadata": {
        "id": "9o9z95-Ru55F"
      },
      "execution_count": null,
      "outputs": []
    },
    {
      "cell_type": "code",
      "source": [
        "from sklearn.metrics import r2_score\n",
        "y_pred_train = model_scaled.predict(X_train_scaled)\n",
        "r2 = r2_score(y_train_scaled, y_pred_train)\n",
        "print(f\"R-squared: {r2:.4f}\")"
      ],
      "metadata": {
        "colab": {
          "base_uri": "https://localhost:8080/"
        },
        "id": "-0KWWK9EsBVe",
        "outputId": "55a935bf-eb9b-47a0-f8e6-9fa3b59e84de"
      },
      "execution_count": null,
      "outputs": [
        {
          "output_type": "stream",
          "name": "stdout",
          "text": [
            "R-squared: 0.9367\n"
          ]
        }
      ]
    },
    {
      "cell_type": "code",
      "source": [
        "n = X_train_scaled.shape[0]\n",
        "p = X_train_scaled.shape[1]\n",
        "\n",
        "adj_r2 = 1 - (1 - r2) * (n - 1) / (n - p - 1)\n",
        "print(f\"Adjusted R-squared: {adj_r2:.4f}\")"
      ],
      "metadata": {
        "colab": {
          "base_uri": "https://localhost:8080/"
        },
        "id": "mwJ8a66vuHUX",
        "outputId": "3c0ad8ce-28d1-4c98-e990-8a0a95cb0d12"
      },
      "execution_count": null,
      "outputs": [
        {
          "output_type": "stream",
          "name": "stdout",
          "text": [
            "Adjusted R-squared: 0.9166\n"
          ]
        }
      ]
    },
    {
      "cell_type": "code",
      "source": [
        "# виведемо коефіцієнти моделі\n",
        "coefficients = model_scaled.coef_\n",
        "coef_df = pd.DataFrame({'Feature': X_train_num.columns, 'Coefficient': coefficients})\n",
        "coef_df = coef_df.reindex(coef_df['Coefficient'].abs().sort_values(ascending=False).index)\n",
        "print(coef_df)"
      ],
      "metadata": {
        "id": "jvV_C7q5wKg2",
        "colab": {
          "base_uri": "https://localhost:8080/"
        },
        "outputId": "51bd3305-7bd3-4803-9f2e-7dc9c4c1a268"
      },
      "execution_count": null,
      "outputs": [
        {
          "output_type": "stream",
          "name": "stdout",
          "text": [
            "              Feature    Coefficient\n",
            "5               Power  406188.858458\n",
            "8                 BMW  280084.828053\n",
            "14           Mercedes  251706.264368\n",
            "7                Audi  219245.541811\n",
            "4              Engine  140923.867523\n",
            "11            Hyundai -137429.690530\n",
            "15               Tata -126982.112105\n",
            "13             Maruti -107380.974051\n",
            "12           Mahindra -106415.305319\n",
            "9                Ford -106182.853690\n",
            "10              Honda  -90580.667067\n",
            "16             Toyota  -87437.112484\n",
            "6               Seats   77124.319682\n",
            "1                Year   50987.972573\n",
            "3             Mileage  -43265.104832\n",
            "17         Volkswagen  -42989.397287\n",
            "0              Car_ID   40280.910679\n",
            "18   Owner_Type_Codes  -35537.870057\n",
            "2   Kilometers_Driven   30166.119872\n"
          ]
        }
      ]
    },
    {
      "cell_type": "markdown",
      "source": [
        "## **Висновок**\n",
        "Коефіцієнти для потужності авто, типу мотору та року випуску мені здаються логічними. Можливо не до кінця в плані тих розмірностей, які вийшли внаслідок розрахунків моделі, але загалом це ті показники, які впливають на те а скільки дорогим буде авто, так як і марки Mercedes, BMW та Audi (оскільки це авто преміум класу). Можливо не до кінця зрозуміла, але не погоджуюсь щодо від'ємних коефіцієнтів для інших марок - скоріш логічним був би позитивний коефіцієнт, але менший, ніж у преміум авто.\n",
        "Погоджуюсь з тим, що чим більше власників було, тим нижча ціна буде (фіча Owner_Type_Codes) і також, що чим більше пробіг авто, тим нижча буде ціна (фіча  Mileage). Але чомусь показник Kilometers_Driven дає позитивний коефіцієнт для ціноутворення, що здається нелогічним."
      ],
      "metadata": {
        "id": "QDRG0cCyK3su"
      }
    },
    {
      "cell_type": "markdown",
      "source": [
        "**Завдання 8.** На тих самих відмасштабованих даних натренуйте модель з `statsmodels`. Виведіть звіт і проаналізуйте p-value коефіцієнтів. Які ознаки є стат значущими на рівні значущості 0.05? Напишіть їх список."
      ],
      "metadata": {
        "id": "WNNkfnrHr7wL"
      }
    },
    {
      "cell_type": "code",
      "source": [
        "X_test_scaled_df = pd.DataFrame(X_test_scaled, columns=X_train_num.columns, index=X_test.index)\n",
        "\n",
        "\n",
        "# додамо константу\n",
        "X_train_scaled_df = sm.add_constant(X_train_scaled_df)\n",
        "X_test_scaled_df = sm.add_constant(X_test_scaled_df)\n"
      ],
      "metadata": {
        "id": "pzBCcp9cuG23"
      },
      "execution_count": null,
      "outputs": []
    },
    {
      "cell_type": "code",
      "source": [
        "X_test_scaled_df.shape"
      ],
      "metadata": {
        "id": "uZnY1rdUonOf",
        "colab": {
          "base_uri": "https://localhost:8080/"
        },
        "outputId": "054b97c3-2f08-418d-b3ac-8548a648cc39"
      },
      "execution_count": null,
      "outputs": [
        {
          "output_type": "execute_result",
          "data": {
            "text/plain": [
              "(20, 20)"
            ]
          },
          "metadata": {},
          "execution_count": 36
        }
      ]
    },
    {
      "cell_type": "code",
      "source": [
        "#тренуємо модель (TRAIN)\n",
        "\n",
        "model_train = sm.OLS(y_train, X_train_scaled_df).fit()\n",
        "print(model_train.summary())\n"
      ],
      "metadata": {
        "id": "hcYoViyff7zE",
        "colab": {
          "base_uri": "https://localhost:8080/"
        },
        "outputId": "0c6098ff-511d-47ba-a736-1c59713e8034"
      },
      "execution_count": null,
      "outputs": [
        {
          "output_type": "stream",
          "name": "stdout",
          "text": [
            "                            OLS Regression Results                            \n",
            "==============================================================================\n",
            "Dep. Variable:                  Price   R-squared:                       0.937\n",
            "Model:                            OLS   Adj. R-squared:                  0.918\n",
            "Method:                 Least Squares   F-statistic:                     50.14\n",
            "Date:                Sun, 11 May 2025   Prob (F-statistic):           9.22e-30\n",
            "Time:                        13:53:35   Log-Likelihood:                -1108.2\n",
            "No. Observations:                  80   AIC:                             2254.\n",
            "Df Residuals:                      61   BIC:                             2300.\n",
            "Df Model:                          18                                         \n",
            "Covariance Type:            nonrobust                                         \n",
            "=====================================================================================\n",
            "                        coef    std err          t      P>|t|      [0.025      0.975]\n",
            "-------------------------------------------------------------------------------------\n",
            "const              1.579e+06   3.21e+04     49.144      0.000    1.52e+06    1.64e+06\n",
            "Car_ID             4.028e+04   3.48e+04      1.156      0.252   -2.94e+04     1.1e+05\n",
            "Year               5.099e+04   7.08e+04      0.720      0.474   -9.06e+04    1.93e+05\n",
            "Kilometers_Driven  3.017e+04   6.62e+04      0.456      0.650   -1.02e+05    1.63e+05\n",
            "Mileage           -4.327e+04   5.89e+04     -0.735      0.465   -1.61e+05    7.44e+04\n",
            "Engine             1.409e+05   8.05e+04      1.750      0.085   -2.01e+04    3.02e+05\n",
            "Power              4.062e+05   8.11e+04      5.009      0.000    2.44e+05    5.68e+05\n",
            "Seats              7.712e+04   4.19e+04      1.839      0.071   -6756.889    1.61e+05\n",
            "Audi               2.192e+05   3.62e+04      6.052      0.000    1.47e+05    2.92e+05\n",
            "BMW                2.801e+05   3.45e+04      8.109      0.000    2.11e+05    3.49e+05\n",
            "Ford              -1.062e+05   3.37e+04     -3.152      0.003   -1.74e+05   -3.88e+04\n",
            "Honda             -9.058e+04    3.7e+04     -2.445      0.017   -1.65e+05   -1.65e+04\n",
            "Hyundai           -1.374e+05   3.34e+04     -4.115      0.000   -2.04e+05   -7.06e+04\n",
            "Mahindra          -1.064e+05   3.53e+04     -3.018      0.004   -1.77e+05   -3.59e+04\n",
            "Maruti            -1.074e+05   3.29e+04     -3.262      0.002   -1.73e+05   -4.16e+04\n",
            "Mercedes           2.517e+05   3.55e+04      7.098      0.000    1.81e+05    3.23e+05\n",
            "Tata               -1.27e+05   3.66e+04     -3.468      0.001      -2e+05   -5.38e+04\n",
            "Toyota            -8.744e+04    3.6e+04     -2.429      0.018   -1.59e+05   -1.55e+04\n",
            "Volkswagen        -4.299e+04   3.07e+04     -1.402      0.166   -1.04e+05    1.83e+04\n",
            "Owner_Type_Codes  -3.554e+04   4.51e+04     -0.789      0.433   -1.26e+05    5.46e+04\n",
            "==============================================================================\n",
            "Omnibus:                        1.334   Durbin-Watson:                   2.032\n",
            "Prob(Omnibus):                  0.513   Jarque-Bera (JB):                0.808\n",
            "Skew:                           0.213   Prob(JB):                        0.668\n",
            "Kurtosis:                       3.246   Cond. No.                     7.66e+15\n",
            "==============================================================================\n",
            "\n",
            "Notes:\n",
            "[1] Standard Errors assume that the covariance matrix of the errors is correctly specified.\n",
            "[2] The smallest eigenvalue is 4.46e-30. This might indicate that there are\n",
            "strong multicollinearity problems or that the design matrix is singular.\n"
          ]
        }
      ]
    },
    {
      "cell_type": "code",
      "source": [
        "results_train = model_train.summary2().tables[1]\n",
        "significant_coeffs = results_train[results_train['P>|t|'] <= 0.05]\n",
        "print(significant_coeffs)"
      ],
      "metadata": {
        "id": "4DqrF0k4IN5i",
        "colab": {
          "base_uri": "https://localhost:8080/"
        },
        "outputId": "5d50c435-f98e-4863-8490-247903f84c2d"
      },
      "execution_count": null,
      "outputs": [
        {
          "output_type": "stream",
          "name": "stdout",
          "text": [
            "                 Coef.      Std.Err.          t         P>|t|        [0.025  \\\n",
            "const     1.579375e+06  32137.871629  49.143734  9.022634e-51  1.515111e+06   \n",
            "Power     4.061889e+05  81095.945785   5.008744  4.973852e-06  2.440275e+05   \n",
            "Audi      2.192455e+05  36227.929268   6.051838  9.561909e-08  1.468033e+05   \n",
            "BMW       2.800848e+05  34539.679725   8.109074  2.855844e-11  2.110185e+05   \n",
            "Ford     -1.061829e+05  33689.212098  -3.151835  2.515459e-03 -1.735486e+05   \n",
            "Honda    -9.058067e+04  37042.567329  -2.445313  1.737466e-02 -1.646519e+05   \n",
            "Hyundai  -1.374297e+05  33398.747128  -4.114816  1.180849e-04 -2.042146e+05   \n",
            "Mahindra -1.064153e+05  35264.818834  -3.017605  3.713849e-03 -1.769317e+05   \n",
            "Maruti   -1.073810e+05  32917.177862  -3.262156  1.812859e-03 -1.732029e+05   \n",
            "Mercedes  2.517063e+05  35461.064176   7.098102  1.571623e-09  1.807975e+05   \n",
            "Tata     -1.269821e+05  36612.798259  -3.468244  9.666177e-04 -2.001939e+05   \n",
            "Toyota   -8.743711e+04  35997.614231  -2.428970  1.810337e-02 -1.594188e+05   \n",
            "\n",
            "                0.975]  \n",
            "const     1.643639e+06  \n",
            "Power     5.683502e+05  \n",
            "Audi      2.916878e+05  \n",
            "BMW       3.491512e+05  \n",
            "Ford     -3.881711e+04  \n",
            "Honda    -1.650948e+04  \n",
            "Hyundai  -7.064477e+04  \n",
            "Mahindra -3.589894e+04  \n",
            "Maruti   -4.155901e+04  \n",
            "Mercedes  3.226150e+05  \n",
            "Tata     -5.377030e+04  \n",
            "Toyota   -1.545543e+04  \n"
          ]
        }
      ]
    },
    {
      "cell_type": "code",
      "source": [
        "# тренуємо модель (TEST)\n",
        "model_test = sm.OLS(y_test, X_test_scaled_df).fit()\n",
        "print(model_test.summary())"
      ],
      "metadata": {
        "id": "XlKXbaK5GKKh",
        "colab": {
          "base_uri": "https://localhost:8080/"
        },
        "outputId": "2ad2d93a-32ca-4f79-e430-479b70e89e5b"
      },
      "execution_count": null,
      "outputs": [
        {
          "output_type": "stream",
          "name": "stdout",
          "text": [
            "                            OLS Regression Results                            \n",
            "==============================================================================\n",
            "Dep. Variable:                  Price   R-squared:                       0.994\n",
            "Model:                            OLS   Adj. R-squared:                  0.883\n",
            "Method:                 Least Squares   F-statistic:                     8.980\n",
            "Date:                Sun, 11 May 2025   Prob (F-statistic):              0.258\n",
            "Time:                        13:53:35   Log-Likelihood:                -253.48\n",
            "No. Observations:                  20   AIC:                             545.0\n",
            "Df Residuals:                       1   BIC:                             563.9\n",
            "Df Model:                          18                                         \n",
            "Covariance Type:            nonrobust                                         \n",
            "=====================================================================================\n",
            "                        coef    std err          t      P>|t|      [0.025      0.975]\n",
            "-------------------------------------------------------------------------------------\n",
            "const              6.195e+04   2.76e+06      0.022      0.986    -3.5e+07    3.52e+07\n",
            "Car_ID             6.213e+05   1.26e+06      0.495      0.707   -1.53e+07    1.66e+07\n",
            "Year               2.098e+05   5.86e+05      0.358      0.781   -7.23e+06    7.65e+06\n",
            "Kilometers_Driven  1.504e+05   5.65e+05      0.266      0.834   -7.03e+06    7.33e+06\n",
            "Mileage            5.939e+05   7.35e+05      0.807      0.568   -8.75e+06    9.94e+06\n",
            "Engine            -2.143e+05   5.61e+05     -0.382      0.768   -7.35e+06    6.92e+06\n",
            "Power              1.266e+06   8.12e+05      1.559      0.363   -9.06e+06    1.16e+07\n",
            "Seats              2.053e+05    3.2e+05      0.642      0.637   -3.86e+06    4.27e+06\n",
            "Audi               3.706e+05   1.56e+05      2.377      0.254   -1.61e+06    2.35e+06\n",
            "BMW               -6.718e+04   3.36e+05     -0.200      0.874   -4.34e+06     4.2e+06\n",
            "Ford              -3.559e+05   2.72e+05     -1.309      0.415   -3.81e+06     3.1e+06\n",
            "Honda              -4.06e+04   3.02e+05     -0.134      0.915   -3.88e+06     3.8e+06\n",
            "Hyundai           -1.098e+05   1.38e+05     -0.798      0.571   -1.86e+06    1.64e+06\n",
            "Mahindra          -1.828e+05   1.21e+05     -1.509      0.373   -1.72e+06    1.36e+06\n",
            "Maruti            -6220.5176   2.42e+05     -0.026      0.984   -3.08e+06    3.07e+06\n",
            "Mercedes           4.279e+05   1.74e+05      2.459      0.246   -1.78e+06    2.64e+06\n",
            "Tata              -1.127e+05   2.16e+05     -0.521      0.694   -2.86e+06    2.64e+06\n",
            "Toyota             3.231e+04   1.66e+05      0.195      0.878   -2.08e+06    2.14e+06\n",
            "Volkswagen         1.004e+04   1.43e+05      0.070      0.956   -1.81e+06    1.83e+06\n",
            "Owner_Type_Codes   3.982e+05   5.55e+05      0.718      0.604   -6.65e+06    7.45e+06\n",
            "==============================================================================\n",
            "Omnibus:                        4.632   Durbin-Watson:                   1.246\n",
            "Prob(Omnibus):                  0.099   Jarque-Bera (JB):                2.447\n",
            "Skew:                          -0.625   Prob(JB):                        0.294\n",
            "Kurtosis:                       4.171   Cond. No.                     3.76e+17\n",
            "==============================================================================\n",
            "\n",
            "Notes:\n",
            "[1] Standard Errors assume that the covariance matrix of the errors is correctly specified.\n",
            "[2] The smallest eigenvalue is 8.4e-34. This might indicate that there are\n",
            "strong multicollinearity problems or that the design matrix is singular.\n"
          ]
        }
      ]
    },
    {
      "cell_type": "markdown",
      "source": [
        "## **Висновок**\n",
        "\n",
        "Для тренувальних даних статзначущі коефіцієнти:\n",
        "\n",
        "Power     \n",
        "Audi     \n",
        "BMW       \n",
        "Ford     \n",
        "Honda    \n",
        "Hyundai  \n",
        "Mahindra\n",
        "\n",
        "Maruti\n",
        "\n",
        "Mercedes\n",
        "\n",
        "Tata    \n",
        "Toyota\n",
        "\n",
        "І хоч з Power я погоджусь, а також тим, що модель авто має значення, однак окрім цього, як мені здається, є інші суттєві параметри, які б мали б впливати на ціноутворення, однак згідно результатів моделі ці параметри не є статзначущими.\n",
        "\n",
        "\n",
        "На тестових даних жоден коефіцієнт не є статзначущим. Або я щось зробила невірно в обчисленнях, або в тестових даних є інформація, якої не було в тренувальних і модель спрацювала інакше."
      ],
      "metadata": {
        "id": "JIhhisJGH9UF"
      }
    },
    {
      "cell_type": "markdown",
      "source": [
        "**Завдання 9**. Натренуйте лінійну регресію з `statsmodels` тільки на ознаках, які виявлись стат. значущими в попередньому завданні. Проаналізуйте показники моделі. Чи значно змінились R2 і Adj. R-squared?"
      ],
      "metadata": {
        "id": "pvOdCEVccfcM"
      }
    },
    {
      "cell_type": "code",
      "source": [
        "value_cols = ['Power', 'Audi', 'BMW', 'Ford', 'Honda', 'Hyundai', 'Mahindra', 'Maruti', 'Mercedes', 'Tata', 'Toyota']\n",
        "# відфільртровую лише потрібні стовпчики з тестового та тренувального наборів:\n",
        "X_train_val = X_train_scaled_df[value_cols]\n",
        "X_test_val = X_test_scaled_df[value_cols]\n",
        "\n",
        "\n",
        "#тренуємо TRAIN дані\n",
        "model_train_val = sm.OLS(y_train, X_train_val).fit()\n",
        "print(model_train_val.summary())"
      ],
      "metadata": {
        "id": "2uE1DqiCf85H",
        "colab": {
          "base_uri": "https://localhost:8080/"
        },
        "outputId": "e4513916-35e8-4f28-869c-fa34aa72bc10"
      },
      "execution_count": null,
      "outputs": [
        {
          "output_type": "stream",
          "name": "stdout",
          "text": [
            "                                 OLS Regression Results                                \n",
            "=======================================================================================\n",
            "Dep. Variable:                  Price   R-squared (uncentered):                   0.262\n",
            "Model:                            OLS   Adj. R-squared (uncentered):              0.145\n",
            "Method:                 Least Squares   F-statistic:                              2.232\n",
            "Date:                Sun, 11 May 2025   Prob (F-statistic):                      0.0220\n",
            "Time:                        13:53:35   Log-Likelihood:                         -1256.6\n",
            "No. Observations:                  80   AIC:                                      2535.\n",
            "Df Residuals:                      69   BIC:                                      2561.\n",
            "Df Model:                          11                                                  \n",
            "Covariance Type:            nonrobust                                                  \n",
            "==============================================================================\n",
            "                 coef    std err          t      P>|t|      [0.025      0.975]\n",
            "------------------------------------------------------------------------------\n",
            "Power       5.554e+05   2.58e+05      2.152      0.035    4.05e+04    1.07e+06\n",
            "Audi        2.566e+05    2.7e+05      0.950      0.345   -2.82e+05    7.95e+05\n",
            "BMW         3.238e+05   2.85e+05      1.137      0.259   -2.44e+05    8.92e+05\n",
            "Ford       -5.929e+04   2.75e+05     -0.216      0.830   -6.07e+05    4.89e+05\n",
            "Honda      -5.005e+04   2.39e+05     -0.210      0.835   -5.26e+05    4.26e+05\n",
            "Hyundai    -1.068e+05   2.65e+05     -0.402      0.689   -6.36e+05    4.23e+05\n",
            "Mahindra     -3.8e+04   2.31e+05     -0.165      0.870   -4.98e+05    4.22e+05\n",
            "Maruti     -5.513e+04   2.39e+05     -0.230      0.818   -5.32e+05    4.22e+05\n",
            "Mercedes    2.873e+05   2.86e+05      1.005      0.318   -2.83e+05    8.58e+05\n",
            "Tata       -4.706e+04   2.59e+05     -0.182      0.856   -5.64e+05     4.7e+05\n",
            "Toyota      4.256e+04   2.61e+05      0.163      0.871   -4.78e+05    5.63e+05\n",
            "==============================================================================\n",
            "Omnibus:                        8.424   Durbin-Watson:                   0.067\n",
            "Prob(Omnibus):                  0.015   Jarque-Bera (JB):                8.860\n",
            "Skew:                           0.572   Prob(JB):                       0.0119\n",
            "Kurtosis:                       4.162   Cond. No.                         4.08\n",
            "==============================================================================\n",
            "\n",
            "Notes:\n",
            "[1] R² is computed without centering (uncentered) since the model does not contain a constant.\n",
            "[2] Standard Errors assume that the covariance matrix of the errors is correctly specified.\n"
          ]
        }
      ]
    },
    {
      "cell_type": "code",
      "source": [
        "# TEST data\n",
        "\n",
        "model_test_val = sm.OLS(y_test, X_test_val).fit()\n",
        "print(model_test_val.summary())"
      ],
      "metadata": {
        "colab": {
          "base_uri": "https://localhost:8080/"
        },
        "id": "f99LL2MxUx-t",
        "outputId": "e58a16c4-ccf5-4fac-aa44-26ae71a56eb7"
      },
      "execution_count": null,
      "outputs": [
        {
          "output_type": "stream",
          "name": "stdout",
          "text": [
            "                                 OLS Regression Results                                \n",
            "=======================================================================================\n",
            "Dep. Variable:                  Price   R-squared (uncentered):                   0.355\n",
            "Model:                            OLS   Adj. R-squared (uncentered):             -0.434\n",
            "Method:                 Least Squares   F-statistic:                             0.4494\n",
            "Date:                Sun, 11 May 2025   Prob (F-statistic):                       0.894\n",
            "Time:                        13:53:35   Log-Likelihood:                         -312.49\n",
            "No. Observations:                  20   AIC:                                      647.0\n",
            "Df Residuals:                       9   BIC:                                      657.9\n",
            "Df Model:                          11                                                  \n",
            "Covariance Type:            nonrobust                                                  \n",
            "==============================================================================\n",
            "                 coef    std err          t      P>|t|      [0.025      0.975]\n",
            "------------------------------------------------------------------------------\n",
            "Power       9.481e+05   7.62e+05      1.243      0.245   -7.77e+05    2.67e+06\n",
            "Audi        1.549e+05   7.17e+05      0.216      0.834   -1.47e+06    1.78e+06\n",
            "BMW        -9.434e+04   8.46e+05     -0.112      0.914   -2.01e+06    1.82e+06\n",
            "Ford        -4.05e+05   8.18e+05     -0.495      0.632   -2.25e+06    1.44e+06\n",
            "Honda      -6.792e+04   6.56e+05     -0.103      0.920   -1.55e+06    1.42e+06\n",
            "Hyundai     -7.55e+04   7.02e+05     -0.108      0.917   -1.66e+06    1.51e+06\n",
            "Mahindra   -6.333e+04   5.88e+05     -0.108      0.917   -1.39e+06    1.27e+06\n",
            "Maruti     -1.197e+05   6.55e+05     -0.183      0.859    -1.6e+06    1.36e+06\n",
            "Mercedes    2.462e+05   6.82e+05      0.361      0.726    -1.3e+06    1.79e+06\n",
            "Tata        1.429e+05   6.16e+05      0.232      0.822   -1.25e+06    1.54e+06\n",
            "Toyota     -4.188e+04   6.77e+05     -0.062      0.952   -1.57e+06    1.49e+06\n",
            "==============================================================================\n",
            "Omnibus:                        1.927   Durbin-Watson:                   0.132\n",
            "Prob(Omnibus):                  0.382   Jarque-Bera (JB):                0.732\n",
            "Skew:                           0.430   Prob(JB):                        0.694\n",
            "Kurtosis:                       3.375   Cond. No.                         4.93\n",
            "==============================================================================\n",
            "\n",
            "Notes:\n",
            "[1] R² is computed without centering (uncentered) since the model does not contain a constant.\n",
            "[2] Standard Errors assume that the covariance matrix of the errors is correctly specified.\n"
          ]
        }
      ]
    },
    {
      "cell_type": "markdown",
      "source": [
        "## Висновок\n",
        "R та R squared значно знизились з 0.97 до 0.3, що говорить про погіршення моделі. Також видно по значенню Prob (F-statistic), що модель погіршилась."
      ],
      "metadata": {
        "id": "ETTYXkLekLNa"
      }
    },
    {
      "cell_type": "markdown",
      "source": [
        "**Завдання 10**. Натренуйте лінійну регресію з `statsmodels` на усіх ознаках з масштабованого `X_train`, у яких p_value в завданні 7 менше за `0.25`. Ми таким чином помʼякшили критерій відбору ознак. Проаналізуйте показники моделі. Чи значно змінились R2 і Adj. R-squared порівняно з завданням 7? Яку модель з останніх 3х завдань ви б лишили для використання?"
      ],
      "metadata": {
        "id": "q-AJSrlxdx-p"
      }
    },
    {
      "cell_type": "code",
      "source": [
        "significant_coeffs_twentyfive = results_train[results_train['P>|t|'] <= 0.25]\n",
        "sign_coeffs_twentyfive = significant_coeffs_twentyfive.index.drop('const').tolist()"
      ],
      "metadata": {
        "id": "nBVF4b-bgAdz"
      },
      "execution_count": null,
      "outputs": []
    },
    {
      "cell_type": "code",
      "source": [
        "print(sign_coeffs_twentyfive)"
      ],
      "metadata": {
        "colab": {
          "base_uri": "https://localhost:8080/"
        },
        "id": "xcVfkXL5rz_p",
        "outputId": "621e1e05-26f2-41a8-c730-4cff738641dd"
      },
      "execution_count": null,
      "outputs": [
        {
          "output_type": "stream",
          "name": "stdout",
          "text": [
            "['Engine', 'Power', 'Seats', 'Audi', 'BMW', 'Ford', 'Honda', 'Hyundai', 'Mahindra', 'Maruti', 'Mercedes', 'Tata', 'Toyota', 'Volkswagen']\n"
          ]
        }
      ]
    },
    {
      "cell_type": "code",
      "source": [
        "X_train_selected_tf = X_train_scaled_df[sign_coeffs_twentyfive]\n",
        "X_train_selected_tf = sm.add_constant(X_train_selected_tf)\n",
        "model_tf = sm.OLS(y_train, X_train_selected_tf).fit()"
      ],
      "metadata": {
        "id": "PRgHlwHPqpKZ"
      },
      "execution_count": null,
      "outputs": []
    },
    {
      "cell_type": "code",
      "source": [
        "print(model_tf.summary())"
      ],
      "metadata": {
        "colab": {
          "base_uri": "https://localhost:8080/"
        },
        "id": "E64-mML2rs2J",
        "outputId": "a042cefd-8574-427a-d27b-3ed954c3ce7c"
      },
      "execution_count": null,
      "outputs": [
        {
          "output_type": "stream",
          "name": "stdout",
          "text": [
            "                            OLS Regression Results                            \n",
            "==============================================================================\n",
            "Dep. Variable:                  Price   R-squared:                       0.933\n",
            "Model:                            OLS   Adj. R-squared:                  0.920\n",
            "Method:                 Least Squares   F-statistic:                     71.20\n",
            "Date:                Sun, 11 May 2025   Prob (F-statistic):           1.32e-33\n",
            "Time:                        14:10:33   Log-Likelihood:                -1110.2\n",
            "No. Observations:                  80   AIC:                             2248.\n",
            "Df Residuals:                      66   BIC:                             2282.\n",
            "Df Model:                          13                                         \n",
            "Covariance Type:            nonrobust                                         \n",
            "==============================================================================\n",
            "                 coef    std err          t      P>|t|      [0.025      0.975]\n",
            "------------------------------------------------------------------------------\n",
            "const       1.579e+06   3.17e+04     49.855      0.000    1.52e+06    1.64e+06\n",
            "Engine      1.354e+05   7.03e+04      1.927      0.058   -4906.827    2.76e+05\n",
            "Power       4.331e+05   7.65e+04      5.661      0.000     2.8e+05    5.86e+05\n",
            "Seats       8.262e+04   3.72e+04      2.220      0.030    8329.065    1.57e+05\n",
            "Audi         2.15e+05   3.05e+04      7.053      0.000    1.54e+05    2.76e+05\n",
            "BMW         2.794e+05   3.16e+04      8.841      0.000    2.16e+05    3.43e+05\n",
            "Ford       -1.128e+05   2.89e+04     -3.903      0.000   -1.71e+05   -5.51e+04\n",
            "Honda      -1.036e+05   3.05e+04     -3.396      0.001   -1.64e+05   -4.27e+04\n",
            "Hyundai    -1.551e+05   2.95e+04     -5.261      0.000   -2.14e+05   -9.63e+04\n",
            "Mahindra   -9.125e+04   3.18e+04     -2.867      0.006   -1.55e+05   -2.77e+04\n",
            "Maruti     -1.073e+05   3.08e+04     -3.482      0.001   -1.69e+05   -4.58e+04\n",
            "Mercedes    2.523e+05   3.24e+04      7.777      0.000    1.88e+05    3.17e+05\n",
            "Tata       -1.104e+05   2.99e+04     -3.690      0.000    -1.7e+05   -5.07e+04\n",
            "Toyota     -6.969e+04   3.26e+04     -2.139      0.036   -1.35e+05   -4638.851\n",
            "Volkswagen   -4.8e+04   2.94e+04     -1.634      0.107   -1.07e+05    1.07e+04\n",
            "==============================================================================\n",
            "Omnibus:                        0.808   Durbin-Watson:                   2.083\n",
            "Prob(Omnibus):                  0.668   Jarque-Bera (JB):                0.352\n",
            "Skew:                           0.112   Prob(JB):                        0.838\n",
            "Kurtosis:                       3.237   Cond. No.                     6.96e+15\n",
            "==============================================================================\n",
            "\n",
            "Notes:\n",
            "[1] Standard Errors assume that the covariance matrix of the errors is correctly specified.\n",
            "[2] The smallest eigenvalue is 3.98e-30. This might indicate that there are\n",
            "strong multicollinearity problems or that the design matrix is singular.\n"
          ]
        }
      ]
    },
    {
      "cell_type": "markdown",
      "source": [
        "##Висновок\n",
        "\n",
        "Порівняно з показниками моделі завдання 9, цього разу R-squared ближче до 1, що говорить про хороші показники моделі. Також p-value коефіцієнтів в основній масі стат. значимі.\n",
        "\n",
        "Порівняно з R2 і Adj. R-squared в завданні 7, в поточній моделі вони не значно відрізняються.\n",
        "\n",
        "Для використання я б лишила модель із завдання 10."
      ],
      "metadata": {
        "id": "k0vCwVRrt4iI"
      }
    }
  ]
}